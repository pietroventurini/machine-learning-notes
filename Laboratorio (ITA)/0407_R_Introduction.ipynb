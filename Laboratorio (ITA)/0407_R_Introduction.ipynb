{
 "cells": [
  {
   "cell_type": "markdown",
   "metadata": {},
   "source": [
    "# Introduzione al linguaggio R\n",
    "Per un'introduzione ad R utilizziamo il notebook `Lab-R_intro.ipynb` del [repository del corso](https://github.com/serivan/mldmlab)."
   ]
  },
  {
   "cell_type": "markdown",
   "metadata": {},
   "source": [
    "## DPLYR package\n",
    "[DYPLR](https://dplyr.tidyverse.org/index.html) è un package per R volto alla manipolazione dei dati"
   ]
  }
 ],
 "metadata": {
  "kernelspec": {
   "display_name": "Python 3",
   "language": "python",
   "name": "python3"
  },
  "language_info": {
   "codemirror_mode": {
    "name": "ipython",
    "version": 3
   },
   "file_extension": ".py",
   "mimetype": "text/x-python",
   "name": "python",
   "nbconvert_exporter": "python",
   "pygments_lexer": "ipython3",
   "version": "3.7.6"
  }
 },
 "nbformat": 4,
 "nbformat_minor": 4
}
