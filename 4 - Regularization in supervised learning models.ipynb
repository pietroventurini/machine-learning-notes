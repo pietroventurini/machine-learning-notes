{
 "cells": [
  {
   "cell_type": "markdown",
   "metadata": {
    "colab_type": "text",
    "id": "view-in-github"
   },
   "source": [
    "<a href=\"https://colab.research.google.com/github/pietroventurini/machine-learning-notes/blob/master/4%20-%20Regularization%20in%20supervised%20learning%20models.ipynb\" target=\"_parent\"><img src=\"https://colab.research.google.com/assets/colab-badge.svg\" alt=\"Open In Colab\"/></a>"
   ]
  },
  {
   "cell_type": "markdown",
   "metadata": {
    "colab_type": "text",
    "id": "Qj9PSvoPZMQn"
   },
   "source": [
    "# Regularization in supervised learning models\n",
    "\n",
    "\n"
   ]
  },
  {
   "cell_type": "markdown",
   "metadata": {
    "colab_type": "text",
    "id": "DS-9NJU5sxIF"
   },
   "source": [
    "### Contents\n",
    "\n",
    "1. [**L1 regularization**](#L1-regularization)  \n",
    "2. [**L2 regularization**](#L2-regularization)  \n",
    "3. [**Regularization in Python**](#Regularization-in-Python)  \n",
    "    3.1. L2 regularization  \n",
    "    3.2. L1 regularization  \n",
    "    3.3. Early stopping  \n",
    "    3.4. BGD with Lasso vs. Ridge regularization  "
   ]
  },
  {
   "cell_type": "markdown",
   "metadata": {
    "colab_type": "text",
    "id": "niBtOipdaIQD"
   },
   "source": [
    "Regularization is a technique to cope with over-fitting.  If we use a model that is too complicated, we give it the opportunity to fit to the noise in the training data, often at the cost of making the model perform badly on test data. \n",
    "\n",
    "A regularization term (or regularizer) $R(f)$ is added to a loss function: \n",
    "\n",
    "$$\\min_{f} \\sum_{i=1}^{n} {V(f(x_i, y_i}) + \\alpha R(f)$$\n",
    "\n",
    "where $V$ is an underlying cost function that describes the cost of predicting $f(x)$ when the label is $y$, such as the square loss. The parameter $\\alpha \\in \\mathbb{R}^+$ controls the importance of the regularization term."
   ]
  },
  {
   "cell_type": "markdown",
   "metadata": {
    "colab_type": "text",
    "id": "kps-QKFzaOyP"
   },
   "source": [
    "## L1 Regularization"
   ]
  },
  {
   "cell_type": "markdown",
   "metadata": {
    "colab_type": "text",
    "id": "suweTVm2KUGM"
   },
   "source": [
    "\n",
    "$l_1$ regularization, also called *lasso* (least absolute shrinkage and selection operator) regularization, consists into solving\n",
    "\n",
    "$$\\min_{\\theta_0, \\theta} \\left\\{\\sum_{i=1}^{N} {(y_i - \\theta_0 - x_i^\\top \\theta)^2} \\right\\} \\text{ subject to } \\sum_{j=1}^{p} |\\theta_j| \\le t$$\n",
    "\n",
    "where:\n",
    "- $N$: size of sample.\n",
    "- $p$: number of covariates in each sample.\n",
    "- $y_i$: outcome of the *i*-th sample.\n",
    "- $x_i := (x_1,\\dots, x_p)^\\top$ is the covariate vector for the *i*-th case.\n",
    "- $t$ is a prespecified free parameter that determines the amount of regularization.\n",
    "\n",
    "The resulting estimate for $\\theta_0$ is $\\hat{\\theta}_0 = \\bar{y} - \\bar{x}^\\top\\theta$. Consequently, the residual\n",
    "\n",
    "$$y_i - \\hat{\\theta}_0 - x_i^\\top \\theta = (y_i - \\bar{y}) - (x_i - \\bar{x})^\\top \\theta.$$\n",
    "\n",
    "If we work with standardized variables, then $\\bar{x}=0$, $\\bar{y}=0$, and both [the covariate and the response](https://en.wikipedia.org/wiki/Dependent_and_independent_variables#Statistics_synonyms) have unit variance.\n",
    "\n",
    "The constrained regression problem can be rewritten in the Lagrangian form:\n",
    "\n",
    "$$\\min_{\\theta \\in \\mathbb{R}^p} \\left\\{ \\frac{1}{N} \\left\\lVert Y - X\\theta\\right\\rVert_2^2 + \\alpha \\left\\lVert \\theta \\right\\rVert_1 \\right\\}$$\n",
    "\n",
    "where:\n",
    "- $\\lVert u \\rVert_p = \\left(\\sum_{i=1}^{N} \\lvert u_i \\rvert^p \\right)^{\\frac{1}{p}}$ is the standard $l^p$ norm. In L1 regularization, it is the Manatthan, or $l^1$ norm.\n",
    "- $X$ is the covariate matrix, such that $X_{ij} = (x_i)_j$ and $x_i^\\top$ is the *i*-th row of $X$.\n",
    "- the exact relationship between $t$ and $\\alpha$ is data dependent.\n",
    "\n",
    "### Example\n",
    "Consider two model, one simpler and one more complex:\n",
    "\n",
    "$$3x_1+4x_2+5=0$$\n",
    "\n",
    "$$2x_1^3-2x_1^2x_2-4x_2^3+3x_1^3+6x_1x_2+4x_2^2+5=0$$\n",
    "\n",
    "Lasso regularization consists into taking the absolute values of the coefficients and adding them to the error of our model.\n",
    "\n",
    "$$\\text{Error}_1 = |3| + |4| = 7$$\n",
    "\n",
    "$$\\text{Error}_2 = |2| + |-2| + |-4| + |3| + |6| + |4| = 21$$\n",
    "\n",
    "### Observations\n",
    "- $\\alpha=0$ is equivalent to the Ordinary Least Squares (OLS) problem.\n",
    "- A large value of $\\alpha$ will make coefficients zero hence it will lead to under-fit.\n",
    "- L1 regularization is computationally inefficient unless data is sparse.\n",
    "- Consider a *one-dimensional* model. The derivative of L1 is a constant whose value is independent of parameter. We can think of the L1 derivative as a force that subtracts some constant value from the parameter every time. Since L1 has a discontinuity at $0$, subtractions results that cross $0$ become zeroed out. Therefore, L1 Gives us the ability of selecting features.\n",
    "\n",
    "### Usages\n",
    "- L1 regularization gives us sparse estimates. Namely, in a high dimensional space, we got mostly zeros and a small number of non-zero coefficients. This is useful, for example, when creating feature crosses, they can result into high-dimensional feature vectors, causing model size to become huge. In a high-dimensional sparse vector, it is preferrable to encourage weights to drop to exactly $0$ where possible.\n",
    "- It incorporates variable selection to the modeling problem, consequently, if we have to score a large sample with our model, we can have a lot of computational savings since we don't have to compute features whose coefficient is $0$.\n",
    "\n",
    "### Tips\n",
    "- To avoid gradient descent from bouncing around the optimum at the end, we can gradually reduce the learning rate. It will still bounce, but the steps will be smaller and smaller.\n",
    "- Since the $l_1$ loss function is not differentiable at $0$, we can use a *subgradient vector* instead, when any $\\theta_i=0$. In other words we can substitute $\\lvert\\theta_i\\rvert$ with $\\mathrm{sign}(\\theta_i)$, where:\n",
    "\n",
    "$$\\mathrm{sign}(\\theta_i) = \\begin{cases}\n",
    "-1 & \\text{if }\\theta_i < 0 \\\\\n",
    "0 & \\text{if }\\theta_i = 0 \\\\\n",
    "+1 & \\text{if }\\theta_i > 0 \\\\\n",
    " \\end{cases}$$"
   ]
  },
  {
   "cell_type": "markdown",
   "metadata": {
    "colab_type": "text",
    "id": "e55zqO01aRxV"
   },
   "source": [
    "## L2 Regularization"
   ]
  },
  {
   "cell_type": "markdown",
   "metadata": {
    "colab_type": "text",
    "id": "oOGyEw8fZu4c"
   },
   "source": [
    "$l_2$ regularization, also called Ridge regression (or Tikhonov regularization), conisists into solving the following constrained minimization problem:\n",
    "\n",
    "$$\\min_{\\theta} \\left\\lVert Y - X\\theta  \\right\\rVert_2^2 + \\alpha \\left\\lVert \\theta \\right \\rVert_2^2$$\n",
    "\n",
    "The closed form solution to the ridge regression problem is:\n",
    "\n",
    "$$\\hat{\\theta} = \\left(X^\\top X + \\alpha I\\right)^{-1}X^\\top Y$$\n",
    "\n",
    "where $I$ is the identity matrix, but having the first diagonal element equal to zero, because the bias term $\\theta_0$ is not regularized).\n",
    "\n",
    "This type of regularization aims at reducing the model complexity, in order to attain low training error while balancing against complexity, preventing overfitting.\n",
    "\n",
    "\n",
    "\n",
    "### Example\n",
    "Consider two model, one simpler and one more complex:\n",
    "\n",
    "$$3x_1+4x_2+5=0$$\n",
    "\n",
    "$$2x_1^3-2x_1^2x_2-4x_2^3+3x_1^3+6x_1x_2+4x_2^2+5=0$$\n",
    "\n",
    "$l_2$ regularization consists into taking the squared values of the coefficients, and adding them to the error of our model.\n",
    "\n",
    "$$\\text{Error} = 3^2 + 4^2 = 25$$\n",
    "\n",
    "$$\\text{Error} = 2^2 + (-2)^2 + (-4)^2 + 3^2 + 6^2 + 4^2 = 85$$\n",
    "\n",
    "### Observations\n",
    "- There exists applications that requires a small error in the model, so we it is ok if it is a complex model and so *punishment* on the complexity should be small. In other cases, simplicity is required, so we can accept errors in our model and so *punishment* on the complexity should be large. That *punishment* is regulated by the $\\alpha$ parameter.\n",
    "- L2 regularization is computationally efficient and better for unsparse data (uniformily distributed between columns).\n",
    "- Differently from $l_1$ regularization, ridge regularization won't drive non-informative features to be exactly $0$, but rather that their value will be small at the end.\n",
    "- Encourages the mean of the weights toward $0$, with a normal distribution.\n",
    "- A linear model with two highly correlated features, when trained including $l_2$ regularization, will end up to have those two features with equivalent values that are approximately half of what they would have been had only one of the two features been in the model. \n",
    "- It is important to scale the data (e.g., using a StandardScaler) before performing\n",
    "Ridge Regression, as it is sensitive to the scale of the input features. This is true of most\n",
    "regularized models."
   ]
  },
  {
   "cell_type": "markdown",
   "metadata": {
    "colab_type": "text",
    "id": "-8xZz9noaWLo"
   },
   "source": [
    "## Regularization in Python"
   ]
  },
  {
   "cell_type": "markdown",
   "metadata": {
    "colab_type": "text",
    "id": "RlrdeuafNlWj"
   },
   "source": [
    "The following code is from the book *Hands-on Machine Learning with Scikit-Learn and Tensorflow, O'Reilly, 2019*."
   ]
  },
  {
   "cell_type": "code",
   "execution_count": null,
   "metadata": {
    "colab": {},
    "colab_type": "code",
    "id": "4Rk0h53tKUDe"
   },
   "outputs": [],
   "source": [
    "import os\n",
    "\n",
    "# numpy and sklearn\n",
    "import numpy as np\n",
    "from sklearn.linear_model import LinearRegression\n",
    "from sklearn.preprocessing import PolynomialFeatures\n",
    "from sklearn.linear_model import SGDRegressor # Stochastic gradient descent\n",
    "from sklearn.linear_model import Ridge # L2 regularization\n",
    "from sklearn.linear_model import Lasso # L1 regularization \n",
    "from sklearn.preprocessing import StandardScaler \n",
    "from sklearn.pipeline import Pipeline\n",
    "\n",
    "# to make this notebook's output stable across runs\n",
    "np.random.seed(42)\n",
    "\n",
    "# To plot pretty figures\n",
    "%matplotlib inline\n",
    "import matplotlib as mpl\n",
    "import matplotlib.pyplot as plt\n",
    "mpl.rc('axes', labelsize=14)\n",
    "mpl.rc('xtick', labelsize=12)\n",
    "mpl.rc('ytick', labelsize=12)\n",
    "\n",
    "# Where to save the figures\n",
    "PROJECT_ROOT_DIR = \".\"\n",
    "CHAPTER_ID = \"training_linear_models\"\n",
    "IMAGES_PATH = os.path.join(PROJECT_ROOT_DIR, \"images\", CHAPTER_ID)\n",
    "os.makedirs(IMAGES_PATH, exist_ok=True)\n",
    "\n",
    "def save_fig(fig_id, tight_layout=True, fig_extension=\"png\", resolution=300):\n",
    "    path = os.path.join(IMAGES_PATH, fig_id + \".\" + fig_extension)\n",
    "    print(\"Saving figure\", fig_id)\n",
    "    if tight_layout:\n",
    "        plt.tight_layout()\n",
    "    plt.savefig(path, format=fig_extension, dpi=resolution)\n",
    "\n",
    "# Ignore useless warnings (see SciPy issue #5998)\n",
    "import warnings\n",
    "warnings.filterwarnings(action=\"ignore\", message=\"^internal gelsd\")"
   ]
  },
  {
   "cell_type": "code",
   "execution_count": null,
   "metadata": {
    "colab": {},
    "colab_type": "code",
    "id": "xcPPrPN0KUGM"
   },
   "outputs": [],
   "source": [
    "np.random.seed(42)\n",
    "m = 20\n",
    "X = 3 * np.random.rand(m, 1)\n",
    "y = 1 + 0.5 * X + np.random.randn(m, 1) / 1.5\n",
    "X_new = np.linspace(0, 3, 100).reshape(100, 1)"
   ]
  },
  {
   "cell_type": "markdown",
   "metadata": {
    "colab_type": "text",
    "id": "K9ibHPX3ewuk"
   },
   "source": [
    "### L2 regularization"
   ]
  },
  {
   "cell_type": "code",
   "execution_count": null,
   "metadata": {
    "colab": {
     "base_uri": "https://localhost:8080/",
     "height": 34
    },
    "colab_type": "code",
    "id": "d_rW2aL1KUGO",
    "outputId": "65693b35-04ab-46d4-a286-a46212070105"
   },
   "outputs": [
    {
     "data": {
      "text/plain": [
       "array([[1.55071465]])"
      ]
     },
     "execution_count": 58,
     "metadata": {
      "tags": []
     },
     "output_type": "execute_result"
    }
   ],
   "source": [
    "\n",
    "ridge_reg = Ridge(alpha=1, solver=\"cholesky\", random_state=42)\n",
    "ridge_reg.fit(X, y)\n",
    "ridge_reg.predict([[1.5]])"
   ]
  },
  {
   "cell_type": "code",
   "execution_count": null,
   "metadata": {
    "colab": {
     "base_uri": "https://localhost:8080/",
     "height": 34
    },
    "colab_type": "code",
    "id": "0XGDaqoZKUGR",
    "outputId": "f7025c11-0920-4b8f-d3f3-90476811b4b4"
   },
   "outputs": [
    {
     "data": {
      "text/plain": [
       "array([[1.5507201]])"
      ]
     },
     "execution_count": 59,
     "metadata": {
      "tags": []
     },
     "output_type": "execute_result"
    }
   ],
   "source": [
    "ridge_reg = Ridge(alpha=1, solver=\"sag\", random_state=42)\n",
    "ridge_reg.fit(X, y)\n",
    "ridge_reg.predict([[1.5]])"
   ]
  },
  {
   "cell_type": "code",
   "execution_count": null,
   "metadata": {
    "colab": {
     "base_uri": "https://localhost:8080/",
     "height": 314
    },
    "colab_type": "code",
    "id": "nZtcvQBdKUGT",
    "outputId": "4bcc4681-dfd9-4db5-8b58-b74f1d9db750"
   },
   "outputs": [
    {
     "name": "stdout",
     "output_type": "stream",
     "text": [
      "Saving figure ridge_regression_plot\n"
     ]
    },
    {
     "data": {
      "image/png": "[encoded data removed]",
      "text/plain": [
       "<Figure size 576x288 with 2 Axes>"
      ]
     },
     "metadata": {
      "needs_background": "light",
      "tags": []
     },
     "output_type": "display_data"
    }
   ],
   "source": [
    "def plot_model(model_class, polynomial, alphas, **model_kargs):\n",
    "    for alpha, style in zip(alphas, (\"b-\", \"g--\", \"r:\")):\n",
    "        model = model_class(alpha, **model_kargs) if alpha > 0 else LinearRegression()\n",
    "        if polynomial:\n",
    "            model = Pipeline([\n",
    "                    (\"poly_features\", PolynomialFeatures(degree=10, include_bias=False)),\n",
    "                    (\"std_scaler\", StandardScaler()),\n",
    "                    (\"regul_reg\", model),\n",
    "                ])\n",
    "        model.fit(X, y)\n",
    "        y_new_regul = model.predict(X_new)\n",
    "        lw = 2 if alpha > 0 else 1\n",
    "        plt.plot(X_new, y_new_regul, style, linewidth=lw, label=r\"$\\alpha = {}$\".format(alpha))\n",
    "    plt.plot(X, y, \"b.\", linewidth=3)\n",
    "    plt.legend(loc=\"upper left\", fontsize=15)\n",
    "    plt.xlabel(\"$x_1$\", fontsize=18)\n",
    "    plt.axis([0, 3, 0, 4])\n",
    "\n",
    "plt.figure(figsize=(8,4))\n",
    "plt.subplot(121)\n",
    "plot_model(Ridge, polynomial=False, alphas=(0, 10, 100), random_state=42) # linear regression\n",
    "plt.ylabel(\"$y$\", rotation=0, fontsize=18)\n",
    "plt.subplot(122)\n",
    "plot_model(Ridge, polynomial=True, alphas=(0, 10**-5, 1), random_state=42) # polynomial regression\n",
    "\n",
    "save_fig(\"ridge_regression_plot\")\n",
    "plt.show()"
   ]
  },
  {
   "cell_type": "markdown",
   "metadata": {
    "colab_type": "text",
    "id": "y1qAhFTZudCI"
   },
   "source": [
    "#### L2 regularization using SGD\n",
    "The penalty hyperparameter sets the type of regularization term to use, in this case, we use `l2`."
   ]
  },
  {
   "cell_type": "code",
   "execution_count": null,
   "metadata": {
    "colab": {
     "base_uri": "https://localhost:8080/",
     "height": 34
    },
    "colab_type": "code",
    "id": "a2Zpb2-5KUGW",
    "outputId": "6c36128c-0179-4cc7-e52a-c52d11e6b831"
   },
   "outputs": [
    {
     "data": {
      "text/plain": [
       "array([1.47012588])"
      ]
     },
     "execution_count": 61,
     "metadata": {
      "tags": []
     },
     "output_type": "execute_result"
    }
   ],
   "source": [
    "sgd_reg = SGDRegressor(penalty=\"l2\", max_iter=1000, tol=1e-3, random_state=42)\n",
    "sgd_reg.fit(X, y.ravel())\n",
    "sgd_reg.predict([[1.5]])"
   ]
  },
  {
   "cell_type": "markdown",
   "metadata": {
    "colab_type": "text",
    "id": "k8hLaS8FeoIv"
   },
   "source": [
    "### L1 Regularization"
   ]
  },
  {
   "cell_type": "code",
   "execution_count": null,
   "metadata": {
    "colab": {
     "base_uri": "https://localhost:8080/",
     "height": 369
    },
    "colab_type": "code",
    "id": "m9cb5KzlKUGX",
    "outputId": "8ab26ea2-23d4-4287-f76f-6666f1e26440"
   },
   "outputs": [
    {
     "name": "stderr",
     "output_type": "stream",
     "text": [
      "/usr/local/lib/python3.6/dist-packages/sklearn/linear_model/_coordinate_descent.py:476: ConvergenceWarning: Objective did not converge. You might want to increase the number of iterations. Duality gap: 2.802867703827423, tolerance: 0.0009294783355207351\n",
      "  positive)\n"
     ]
    },
    {
     "name": "stdout",
     "output_type": "stream",
     "text": [
      "Saving figure lasso_regression_plot\n"
     ]
    },
    {
     "data": {
      "image/png": "[encoded data removed]",
      "text/plain": [
       "<Figure size 576x288 with 2 Axes>"
      ]
     },
     "metadata": {
      "needs_background": "light",
      "tags": []
     },
     "output_type": "display_data"
    }
   ],
   "source": [
    "plt.figure(figsize=(8,4))\n",
    "plt.subplot(121)\n",
    "plot_model(Lasso, polynomial=False, alphas=(0, 0.1, 1), random_state=42) # linear regression\n",
    "plt.ylabel(\"$y$\", rotation=0, fontsize=18)\n",
    "plt.subplot(122)\n",
    "plot_model(Lasso, polynomial=True, alphas=(0, 10**-7, 1), random_state=42) # polynomial regression\n",
    "\n",
    "save_fig(\"lasso_regression_plot\")\n",
    "plt.show()"
   ]
  },
  {
   "cell_type": "code",
   "execution_count": null,
   "metadata": {
    "colab": {
     "base_uri": "https://localhost:8080/",
     "height": 34
    },
    "colab_type": "code",
    "id": "t9wc3Ii6KUGb",
    "outputId": "ededf5ef-3a95-4c39-8b86-3deffc10d576"
   },
   "outputs": [
    {
     "data": {
      "text/plain": [
       "array([1.53788174])"
      ]
     },
     "execution_count": 63,
     "metadata": {
      "tags": []
     },
     "output_type": "execute_result"
    }
   ],
   "source": [
    "from sklearn.linear_model import Lasso\n",
    "lasso_reg = Lasso(alpha=0.1)\n",
    "lasso_reg.fit(X, y)\n",
    "lasso_reg.predict([[1.5]])"
   ]
  },
  {
   "cell_type": "code",
   "execution_count": null,
   "metadata": {
    "colab": {
     "base_uri": "https://localhost:8080/",
     "height": 34
    },
    "colab_type": "code",
    "id": "3Qxz0GnfKUGd",
    "outputId": "13917b11-eafe-4370-9139-c4b2891d4a8c"
   },
   "outputs": [
    {
     "data": {
      "text/plain": [
       "array([1.54333232])"
      ]
     },
     "execution_count": 64,
     "metadata": {
      "tags": []
     },
     "output_type": "execute_result"
    }
   ],
   "source": [
    "from sklearn.linear_model import ElasticNet\n",
    "elastic_net = ElasticNet(alpha=0.1, l1_ratio=0.5, random_state=42)\n",
    "elastic_net.fit(X, y)\n",
    "elastic_net.predict([[1.5]])"
   ]
  },
  {
   "cell_type": "markdown",
   "metadata": {
    "colab_type": "text",
    "id": "MC6qV143KUGi"
   },
   "source": [
    "### Early stopping\n",
    "Early stopping in gradient descent is a form of regularization."
   ]
  },
  {
   "cell_type": "code",
   "execution_count": null,
   "metadata": {
    "colab": {},
    "colab_type": "code",
    "id": "Cs4eWfmJKUGg"
   },
   "outputs": [],
   "source": [
    "np.random.seed(42)\n",
    "m = 100\n",
    "X = 6 * np.random.rand(m, 1) - 3\n",
    "y = 2 + X + 0.5 * X**2 + np.random.randn(m, 1)\n",
    "\n",
    "X_train, X_val, y_train, y_val = train_test_split(X[:50], y[:50].ravel(), test_size=0.5, random_state=10)"
   ]
  },
  {
   "cell_type": "code",
   "execution_count": null,
   "metadata": {
    "colab": {},
    "colab_type": "code",
    "id": "E0bfgMRxKUGi",
    "scrolled": true
   },
   "outputs": [],
   "source": [
    "from sklearn.model_selection import train_test_split\n",
    "from sklearn.metrics import mean_squared_error\n",
    "from sklearn.base import clone\n",
    "\n",
    "poly_scaler = Pipeline([\n",
    "        (\"poly_features\", PolynomialFeatures(degree=90, include_bias=False)),\n",
    "        (\"std_scaler\", StandardScaler())\n",
    "    ])\n",
    "\n",
    "X_train_poly_scaled = poly_scaler.fit_transform(X_train) # transform training data\n",
    "X_val_poly_scaled = poly_scaler.transform(X_val) # transform validation data\n",
    "\n",
    "sgd_reg = SGDRegressor(max_iter=1, tol=-np.infty, warm_start=True,\n",
    "                       penalty=None, learning_rate=\"constant\", eta0=0.0005, random_state=42)\n",
    "\n",
    "minimum_val_error = float(\"inf\")\n",
    "best_epoch = None\n",
    "best_model = None\n",
    "for epoch in range(1000):\n",
    "    sgd_reg.fit(X_train_poly_scaled, y_train)  # continues where it left off\n",
    "    y_val_predict = sgd_reg.predict(X_val_poly_scaled)\n",
    "    val_error = mean_squared_error(y_val, y_val_predict)\n",
    "    if val_error < minimum_val_error:\n",
    "        minimum_val_error = val_error\n",
    "        best_epoch = epoch\n",
    "        best_model = clone(sgd_reg)"
   ]
  },
  {
   "cell_type": "markdown",
   "metadata": {
    "colab_type": "text",
    "id": "D3tFgzIAKUGm"
   },
   "source": [
    "Create the graph:"
   ]
  },
  {
   "cell_type": "code",
   "execution_count": null,
   "metadata": {
    "colab": {
     "base_uri": "https://localhost:8080/",
     "height": 314
    },
    "colab_type": "code",
    "id": "GDOkoeF-KUGm",
    "outputId": "fa67d952-1b2c-42cb-ec0b-b03604607c83"
   },
   "outputs": [
    {
     "name": "stdout",
     "output_type": "stream",
     "text": [
      "Saving figure early_stopping_plot\n"
     ]
    },
    {
     "data": {
      "image/png": "[encoded data removed]",
      "text/plain": [
       "<Figure size 432x288 with 1 Axes>"
      ]
     },
     "metadata": {
      "needs_background": "light",
      "tags": []
     },
     "output_type": "display_data"
    }
   ],
   "source": [
    "sgd_reg = SGDRegressor(max_iter=1, tol=-np.infty, warm_start=True,\n",
    "                       penalty=None, learning_rate=\"constant\", eta0=0.0005, random_state=42)\n",
    "\n",
    "n_epochs = 500\n",
    "train_errors, val_errors = [], []\n",
    "for epoch in range(n_epochs):\n",
    "    sgd_reg.fit(X_train_poly_scaled, y_train)\n",
    "    y_train_predict = sgd_reg.predict(X_train_poly_scaled)\n",
    "    y_val_predict = sgd_reg.predict(X_val_poly_scaled)\n",
    "    train_errors.append(mean_squared_error(y_train, y_train_predict))\n",
    "    val_errors.append(mean_squared_error(y_val, y_val_predict))\n",
    "\n",
    "best_epoch = np.argmin(val_errors)\n",
    "best_val_rmse = np.sqrt(val_errors[best_epoch])\n",
    "\n",
    "plt.annotate('Best model',\n",
    "             xy=(best_epoch, best_val_rmse),\n",
    "             xytext=(best_epoch, best_val_rmse + 1),\n",
    "             ha=\"center\",\n",
    "             arrowprops=dict(facecolor='black', shrink=0.05),\n",
    "             fontsize=16,\n",
    "            )\n",
    "\n",
    "best_val_rmse -= 0.03  # just to make the graph look better\n",
    "plt.plot([0, n_epochs], [best_val_rmse, best_val_rmse], \"k:\", linewidth=2)\n",
    "plt.plot(np.sqrt(val_errors), \"b-\", linewidth=3, label=\"Validation set\")\n",
    "plt.plot(np.sqrt(train_errors), \"r--\", linewidth=2, label=\"Training set\")\n",
    "plt.legend(loc=\"upper right\", fontsize=14)\n",
    "plt.xlabel(\"Epoch\", fontsize=14)\n",
    "plt.ylabel(\"RMSE\", fontsize=14)\n",
    "save_fig(\"early_stopping_plot\")\n",
    "plt.show()"
   ]
  },
  {
   "cell_type": "code",
   "execution_count": null,
   "metadata": {
    "colab": {
     "base_uri": "https://localhost:8080/",
     "height": 139
    },
    "colab_type": "code",
    "id": "e_0G07nkKUGo",
    "outputId": "2a2c0b42-c18a-432e-f517-3ecca3cbfccb"
   },
   "outputs": [
    {
     "data": {
      "text/plain": [
       "(239,\n",
       " SGDRegressor(alpha=0.0001, average=False, early_stopping=False, epsilon=0.1,\n",
       "              eta0=0.0005, fit_intercept=True, l1_ratio=0.15,\n",
       "              learning_rate='constant', loss='squared_loss', max_iter=1,\n",
       "              n_iter_no_change=5, penalty=None, power_t=0.25, random_state=42,\n",
       "              shuffle=True, tol=-inf, validation_fraction=0.1, verbose=0,\n",
       "              warm_start=True))"
      ]
     },
     "execution_count": 68,
     "metadata": {
      "tags": []
     },
     "output_type": "execute_result"
    }
   ],
   "source": [
    "best_epoch, best_model"
   ]
  },
  {
   "cell_type": "markdown",
   "metadata": {
    "colab_type": "text",
    "id": "5uQhYZdJrqSg"
   },
   "source": [
    "### BGD with Lasso vs. Ridge regularization"
   ]
  },
  {
   "cell_type": "code",
   "execution_count": null,
   "metadata": {
    "colab": {},
    "colab_type": "code",
    "id": "dD_ubcOkKUGt"
   },
   "outputs": [],
   "source": [
    "t1a, t1b, t2a, t2b = -1, 3, -1.5, 1.5 # axis range\n",
    "\n",
    "t1s = np.linspace(t1a, t1b, 500)\n",
    "t2s = np.linspace(t2a, t2b, 500)\n",
    "t1, t2 = np.meshgrid(t1s, t2s)\n",
    "T = np.c_[t1.ravel(), t2.ravel()]\n",
    "Xr = np.array([[1, 1], [1, -1], [1, 0.5]])\n",
    "yr = 2 * Xr[:, :1] + 0.5 * Xr[:, 1:]\n",
    "\n",
    "J = (1/len(Xr) * np.sum((T.dot(Xr.T) - yr.T)**2, axis=1)).reshape(t1.shape)\n",
    "\n",
    "N1 = np.linalg.norm(T, ord=1, axis=1).reshape(t1.shape)\n",
    "N2 = np.linalg.norm(T, ord=2, axis=1).reshape(t1.shape)\n",
    "\n",
    "t_min_idx = np.unravel_index(np.argmin(J), J.shape)\n",
    "t1_min, t2_min = t1[t_min_idx], t2[t_min_idx]\n",
    "\n",
    "t_init = np.array([[0.25], [-1]])"
   ]
  },
  {
   "cell_type": "code",
   "execution_count": null,
   "metadata": {
    "colab": {
     "base_uri": "https://localhost:8080/",
     "height": 602
    },
    "colab_type": "code",
    "id": "ynIHFXBDKUGv",
    "outputId": "48129a8a-49f0-4685-adb3-954e41bf62e5"
   },
   "outputs": [
    {
     "name": "stdout",
     "output_type": "stream",
     "text": [
      "Saving figure lasso_vs_ridge_plot\n"
     ]
    },
    {
     "data": {
      "image/png": "[encoded data removed]",
      "text/plain": [
       "<Figure size 727.2x576 with 4 Axes>"
      ]
     },
     "metadata": {
      "needs_background": "light",
      "tags": []
     },
     "output_type": "display_data"
    }
   ],
   "source": [
    "def bgd_path(theta, X, y, l1, l2, core = 1, eta = 0.05, n_iterations = 200):\n",
    "    path = [theta]\n",
    "    for iteration in range(n_iterations):\n",
    "        gradients = core * 2/len(X) * X.T.dot(X.dot(theta) - y) + l1 * np.sign(theta) + l2 * theta\n",
    "        theta = theta - eta * gradients\n",
    "        path.append(theta)\n",
    "    return np.array(path)\n",
    "\n",
    "fig, axes = plt.subplots(2, 2, sharex=True, sharey=True, figsize=(10.1, 8))\n",
    "for i, N, l1, l2, title in ((0, N1, 2., 0, \"Lasso\"), (1, N2, 0,  2., \"Ridge\")):\n",
    "    JR = J + l1 * N1 + l2 * 0.5 * N2**2\n",
    "    \n",
    "    tr_min_idx = np.unravel_index(np.argmin(JR), JR.shape)\n",
    "    t1r_min, t2r_min = t1[tr_min_idx], t2[tr_min_idx]\n",
    "\n",
    "    levelsJ=(np.exp(np.linspace(0, 1, 20)) - 1) * (np.max(J) - np.min(J)) + np.min(J)\n",
    "    levelsJR=(np.exp(np.linspace(0, 1, 20)) - 1) * (np.max(JR) - np.min(JR)) + np.min(JR)\n",
    "    levelsN=np.linspace(0, np.max(N), 10)\n",
    "    \n",
    "    path_J = bgd_path(t_init, Xr, yr, l1=0, l2=0)\n",
    "    path_JR = bgd_path(t_init, Xr, yr, l1, l2)\n",
    "    path_N = bgd_path(np.array([[2.0], [0.5]]), Xr, yr, np.sign(l1)/3, np.sign(l2), core=0)\n",
    "\n",
    "    ax = axes[i, 0]\n",
    "    ax.grid(True)\n",
    "    ax.axhline(y=0, color='k')\n",
    "    ax.axvline(x=0, color='k')\n",
    "    ax.contourf(t1, t2, N / 2., levels=levelsN)\n",
    "    ax.plot(path_N[:, 0], path_N[:, 1], \"y--\")\n",
    "    ax.plot(0, 0, \"ys\")\n",
    "    ax.plot(t1_min, t2_min, \"ys\")\n",
    "    ax.set_title(r\"$\\ell_{}$ penalty\".format(i + 1), fontsize=16)\n",
    "    ax.axis([t1a, t1b, t2a, t2b])\n",
    "    if i == 1:\n",
    "        ax.set_xlabel(r\"$\\theta_1$\", fontsize=16)\n",
    "    ax.set_ylabel(r\"$\\theta_2$\", fontsize=16, rotation=0)\n",
    "\n",
    "    ax = axes[i, 1]\n",
    "    ax.grid(True)\n",
    "    ax.axhline(y=0, color='k')\n",
    "    ax.axvline(x=0, color='k')\n",
    "    ax.contourf(t1, t2, JR, levels=levelsJR, alpha=0.9)\n",
    "    ax.plot(path_JR[:, 0], path_JR[:, 1], \"w-o\")\n",
    "    ax.plot(path_N[:, 0], path_N[:, 1], \"y--\")\n",
    "    ax.plot(0, 0, \"ys\")\n",
    "    ax.plot(t1_min, t2_min, \"ys\")\n",
    "    ax.plot(t1r_min, t2r_min, \"rs\")\n",
    "    ax.set_title(title, fontsize=16)\n",
    "    ax.axis([t1a, t1b, t2a, t2b])\n",
    "    if i == 1:\n",
    "        ax.set_xlabel(r\"$\\theta_1$\", fontsize=16)\n",
    "\n",
    "save_fig(\"lasso_vs_ridge_plot\")\n",
    "plt.show()"
   ]
  },
  {
   "cell_type": "markdown",
   "metadata": {
    "colab_type": "text",
    "id": "Q2u8QFMr1JwO"
   },
   "source": [
    "In the figure above, the background contour plots represent different cost functions.\n",
    "- **Top left:**  contours represent the $l_1$ loss ($J(\\theta_1,\\theta_2) = |\\theta_1| + |\\theta_2|$), which drops linearly as it get closer to any axis For example, if we initialize the model parameters as $\\theta_1 = 2$ and $\\theta_2 = 0.5$, then running gradient descent will linearly decrement both $\\theta_1$ and $\\theta_2$. Since $\\theta_2$ was closer to the $\\theta_2 = 0$ axis, it will be the first to reach $0$. After that, gradient descent will roll down the gutter until it reaches the minimum point.\n",
    "\n",
    "- **Top right:** contours represent Lasso's cost function (MSE cost function plus an $l_1$ loss). White path represents the gradient descent starting from $\\theta_1 = 0.25$ and $\\theta_2 = -1$. Once again, both the parameters gets decremented linearly. Once $\\theta_2$ reaches $0$, we can see it bouncing above and below $0$, due to de fact that there is a discontinuity point at $0$ (the derivative jumps from $-1$ to $1$). By increasing $\\alpha$ we would move the global optimum towards $(0,0)$, while if we lower $\\alpha$ value, the minimum point would move towards right (in this particular example).\n",
    "\n",
    "- **Bottom left:** Contours represent the $l_2$ loss ($J(\\theta_1,\\theta_2) = \\sqrt{\\theta_1^2 + \\theta_2^2}$). The loss decreases with the distance to the origin. Gradient descent initialized at $\\theta_1 = 2$ and $\\theta_2 = 0.5$, takes a straight path towards $(0,0)$.\n",
    "\n",
    "- **Bottom right:** contours represent Lasso's cost function (MSE cost function plus an $l_2$ loss). Gradients get smaller as the parameters approach the global optimum, naturally slowing down the gradient and helping convergence (there is no bouncing around, differently from using the $l_1$ norm). Increasing $\\alpha$ causes the parameters to get closer to the origin, but withouth getting complitely eliminated."
   ]
  }
 ],
 "metadata": {
  "colab": {
   "authorship_tag": "ABX9TyPp7xDEowJe2pm5nCNvSIY9",
   "include_colab_link": true,
   "name": "Regularization in supervised learning models.ipynb",
   "provenance": []
  },
  "kernelspec": {
   "display_name": "Python 3",
   "language": "python",
   "name": "python3"
  },
  "language_info": {
   "codemirror_mode": {
    "name": "ipython",
    "version": 3
   },
   "file_extension": ".py",
   "mimetype": "text/x-python",
   "name": "python",
   "nbconvert_exporter": "python",
   "pygments_lexer": "ipython3",
   "version": "3.8.6"
  }
 },
 "nbformat": 4,
 "nbformat_minor": 4
}
