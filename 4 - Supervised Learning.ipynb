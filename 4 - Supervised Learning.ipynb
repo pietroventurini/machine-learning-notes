{
 "cells": [
  {
   "cell_type": "markdown",
   "metadata": {},
   "source": [
    "# Supervised learning\n",
    "# Linear regression\n",
    "Linear regression is a supervised learning problem that consists in finding the curve that best fits some data points.\n",
    "\n",
    "We start considering the simple case of $m$ points in the 2D space, and we look for a linear regressor that fits the data well. That regressor has the form:\n",
    "$$\\hat{y} = \\theta_1x + \\theta_2$$\n",
    "Our goal is to find $\\left[\\theta_1, \\theta_2\\right]^T$ that minimize the mean squared error:\n",
    "$$\\frac{1}{2m}\\sum_{i=1}^{m}{(y-\\hat{y})^2}$$\n",
    "To minimize that quantity, we can use the gradient descent method:\n",
    "$$w_i \\rightarrow w_i - \\alpha\\frac{\\partial}{\\partial w_i}\\text{Error}$$\n",
    "\n",
    "At this point, it seems that we've seen two ways of doing linear regression.\n",
    "- **Stochastic**: By applying the squared (or absolute) trick at every point in our data one by one, and repeating this process many times.\n",
    "- **Batch**: By applying the squared (or absolute) trick at every point in our data all at the same time, and repeating this process many times.\n",
    "\n",
    "If our data is huge, both are a bit slow, computationally. The best way to do linear regression, is to split the data into many small batches. Each batch, with roughly the same number of points. Then, use each batch to update the weights. This is still called mini-batch gradient descent."
   ]
  },
  {
   "cell_type": "code",
   "execution_count": 1,
   "metadata": {},
   "outputs": [
    {
     "name": "stdout",
     "output_type": "stream",
     "text": [
      "Life expectancy for a BMI of 21.07931 is equal to 60.315647163993056\n"
     ]
    }
   ],
   "source": [
    "import pandas as pd\n",
    "from sklearn.linear_model import LinearRegression\n",
    "\n",
    "bmi_life_data = pd.read_csv(\"datasets/bmi_and_life_expectancy.csv\")\n",
    "\n",
    "# Setup and fit the model with data\n",
    "bmi_life_model = LinearRegression()\n",
    "bmi_life_model.fit(bmi_life_data[['BMI']], bmi_life_data[['Life expectancy']])\n",
    "\n",
    "# Predict life expectancy for a BMI value of 21.07931\n",
    "laos_life_exp = bmi_life_model.predict([[21.07931]])\n",
    "print('Life expectancy for a BMI of 21.07931 is equal to {}'.format(laos_life_exp[0][0]))"
   ]
  },
  {
   "cell_type": "markdown",
   "metadata": {},
   "source": [
    "## Higher dimensions\n",
    "The prediction in a $n$ dimensional space, with variables $x_1,x_2,...,x_{n-1}$ is a $n-1$ dimensional hyperplane.\n",
    "\n",
    "$$\\hat{y}=\\theta_1x_1+\\theta_2x_2+\\dots+\\theta_{n-1}x_{n-1}+\\theta_n$$"
   ]
  },
  {
   "cell_type": "code",
   "execution_count": 2,
   "metadata": {},
   "outputs": [],
   "source": [
    "from sklearn.linear_model import LinearRegression\n",
    "from sklearn.datasets import load_boston\n",
    "\n",
    "# Load the data from the boston house-prices dataset \n",
    "boston_data = load_boston()\n",
    "X = boston_data['data']\n",
    "y = boston_data['target']\n",
    "\n",
    "# Fit the model and assign it to the model variable\n",
    "model = LinearRegression()\n",
    "model.fit(X, y)\n",
    "\n",
    "# Make a prediction using the model\n",
    "sample_house = [[2.29690000e-01, 0.00000000e+00, 1.05900000e+01, 0.00000000e+00, 4.89000000e-01,\n",
    "                6.32600000e+00, 5.25000000e+01, 4.35490000e+00, 4.00000000e+00, 2.77000000e+02,\n",
    "                1.86000000e+01, 3.94870000e+02, 1.09700000e+01]]\n",
    "# Predict housing price for the sample_house\n",
    "prediction = model.predict(sample_house)"
   ]
  },
  {
   "cell_type": "markdown",
   "metadata": {},
   "source": [
    "Why don't we simply compute the derivatives of the error function and set to zero, obtaining a system of linear equations in the variables $\\theta_i$? If the number of variables is $n$, we would have to solve a linear systems of $n$ equations and $n$ unknowns. That can be very expensive when $n$ is high. For this reason, gradient descent is a good alternative."
   ]
  },
  {
   "cell_type": "markdown",
   "metadata": {},
   "source": [
    "## Regularization\n",
    "Consider two model, one simpler, with just two variables, and one more complex:\n",
    "\n",
    "$$3x_1+4x_2+5=0$$\n",
    "\n",
    "$$2x_1^3-2x_1^2x_2-4x_2^3+3x_1^3+6x_1x_2+4x_2^2+5=0$$\n",
    "\n",
    "### L1 Regularization\n",
    "L1 regularization consists in taking the absolute values of the coefficients, and adding them to the error of our model.\n",
    "\n",
    "$$\\text{Error} = |3| + |4| = 7$$\n",
    "\n",
    "$$\\text{Error} = |2| + |-2| + |-4| + |3| + |6| + |4| = 21$$\n",
    "\n",
    "- L1 regularization is computationally inefficient unless data is sparse.\n",
    "- Gives us features selection\n",
    "\n",
    "### L2 Regularization\n",
    "L2 regularization consists in taking the squared values of the coefficients, and adding them to the error of our model.\n",
    "\n",
    "$$\\text{Error} = 3^2 + 4^2 = 25$$\n",
    "\n",
    "$$\\text{Error} = 2^2 + (-2)^2 + (-4)^2 + 3^2 + 6^2 + 4^2 = 85$$\n",
    "\n",
    "There exists applications that requires a small error in the model, so we it is ok if it is a complex model and so *punishment* on the complexity should be small. In other cases, simplicity is required, so we can accept errors in our model and so *punishment* on the complexity should be large. That *punishment* is regulated by the $\\lambda$ parameter.\n",
    "\n",
    "- L2 regularization is computationally efficient and better for unsparse data (uniformily distributed between columns)."
   ]
  },
  {
   "cell_type": "markdown",
   "metadata": {},
   "source": [
    "# The perceptron algorithm\n",
    "The perceptron algorithm belongs to the category of classification algorithms, and it is the basis of a neural network. The first concept of the perceptron learning rule was published by Frank Rosenblatt in 1957, and it was based on the McCullock-Pitts (MCP) neuron model: a concept of a simplified brain cell, published by Warren McCullok and Walter Pitts in 1943. Neurons are interconnected brain cells in the brain; McCullock and Pitts described such a nerve cell as a simple logic gate with binary outputs; multiple signals arrive at the dendrites, are then integrated into the cell body, and, if the accumulated signals exceeds a certain threshold, an output signal is generated that will be passed on by the axon.\n",
    "\n",
    "<img src=\"images/Perceptron/neuron.png\" style=\"width:60%\"/>\n",
    "\n",
    "We can pose this problem as a binary classification task where we refer to the two classes as 1 (positive class) and -1 (negative class). Then there is an **activation function** $\\phi(z)$ that takes a linear combination of certain input values $x$ and a corresponding weight vector $w$, where $z=w_1x_1+...+w_mx_m$ is called the net input.\n",
    "\n",
    "In this algorithm, the activation function $\\phi(z)$ is a variant of the unit step function:\n",
    "\n",
    "$$\\phi(z)=\\begin{cases}1 & \\text{if }z\\ge \\theta \\\\ -1 & \\text{otherwise}\\end{cases}$$\n",
    "\n",
    "We can bring the threshold $\\theta$ to the left side of the equation and define $w_0=-\\theta$ and $x_0=1$, so that $z=w^Tx$ and we can write:\n",
    "\n",
    "$$\\phi(z)=\\begin{cases}1 & \\text{if }z\\ge 0 \\\\ -1 & \\text{otherwise}\\end{cases}$$\n",
    "\n",
    "The weight $w_0=-\\theta$ is usually called the **bias unit**.\n",
    "\n",
    "For instance, in $\\mathbb{R}^2$ we would have:\n",
    "- $w = \\begin{bmatrix}w_0 & w_1 & w_2\\end{bmatrix}$\n",
    "- $x= \\begin{bmatrix}1 & x_1 & x_2\\end{bmatrix}^T$\n",
    "\n",
    "and $w_1x_1 + w_2x_2 + w_0= 0$ is a line in $\\mathbb{R}^2$."
   ]
  },
  {
   "cell_type": "markdown",
   "metadata": {},
   "source": [
    "## The algorithm\n",
    "```\n",
    "Initialize w_0...w_n to 0 or to small random values\n",
    "for each misclassified point (x_1...x_m):\n",
    "    if prediction = 0:\n",
    "        for i=0...n:\n",
    "            w_i = w_i + learn_rate * x_i\n",
    "    if prediction = 1:\n",
    "        for i=0...n:\n",
    "            w_i = w_i - learn_rate * x_i\n",
    "```\n",
    "\n",
    "In a more general way, the update term is calculated by the perceptron learning rule:\n",
    "\n",
    "$$\\Delta w_j = \\eta \\left(y^{(i)}-\\hat{y}^{(i)}\\right)x_j^{(i)}$$\n",
    "\n",
    "where:\n",
    "- $\\eta \\in (0,1)$ is the learning rate\n",
    "- $y^{(i)}$ is the true class label of the i-th training sample\n",
    "- $\\hat{y}^{(i)}$ is the predicted class label\n",
    "\n",
    "Note that all the weights are updated simultaneously, meaning that the predicted label $\\hat{y}^{(i)}$ is not recomputed before all of the weights are updated."
   ]
  },
  {
   "cell_type": "markdown",
   "metadata": {},
   "source": [
    "## Perceptrons as Logical Operators\n",
    "In the following code snippet, we'll implement a logical AND port using a perceptron."
   ]
  },
  {
   "cell_type": "code",
   "execution_count": 3,
   "metadata": {},
   "outputs": [
    {
     "name": "stdout",
     "output_type": "stream",
     "text": [
      "You got it all correct.\n",
      "\n",
      " Input 1    Input 2    Linear Combination    Activation Output   Is Correct\n",
      "       0          0                  -2.0                    0          Yes\n",
      "       0          1                  -1.0                    0          Yes\n",
      "       1          0                  -1.0                    0          Yes\n",
      "       1          1                   0.0                    1          Yes\n"
     ]
    }
   ],
   "source": [
    "import pandas as pd\n",
    "\n",
    "# Set weight1, weight2, and bias\n",
    "weight1 = 1.0\n",
    "weight2 = 1.0\n",
    "bias = -2.0\n",
    "\n",
    "# Inputs and outputs\n",
    "test_inputs = [(0, 0), (0, 1), (1, 0), (1, 1)]\n",
    "correct_outputs = [False, False, False, True]\n",
    "outputs = []\n",
    "\n",
    "# Generate and check output\n",
    "for test_input, correct_output in zip(test_inputs, correct_outputs):\n",
    "    linear_combination = weight1 * test_input[0] + weight2 * test_input[1] + bias\n",
    "    output = int(linear_combination >= 0)\n",
    "    is_correct_string = 'Yes' if output == correct_output else 'No'\n",
    "    outputs.append([test_input[0], test_input[1], linear_combination, output, is_correct_string])\n",
    "\n",
    "# Print output\n",
    "num_wrong = len([output[4] for output in outputs if output[4] == 'No'])\n",
    "output_frame = pd.DataFrame(outputs, columns=['Input 1', '  Input 2', '  Linear Combination', '  Activation Output', '  Is Correct'])\n",
    "if not num_wrong:\n",
    "    print('You got it all correct.\\n')\n",
    "else:\n",
    "    print('You got {} wrong.  Keep trying!\\n'.format(num_wrong))\n",
    "print(output_frame.to_string(index=False))"
   ]
  },
  {
   "cell_type": "markdown",
   "metadata": {},
   "source": [
    "## The algorithm\n",
    "Consider the following example in the $\\mathbb{R}^2$ space. The main idea behind this algorithm is to start from an initial line, let's say $3x_1+4x_2-10=0$ and to have a misclassified point $(4,5)$. What we do is to add a bias term to the point that will become $(4,5,1)$, then we multiply its components for a learning rate $\\alpha$, let's say $\\alpha=0.1$, and we subtract it to the equation of the line, obtaining $(3-0.4)x_1+(4-0.5)x_2+(-10-0.1)=0$ that is $2.6x_1+3.5x_2-10.1=0$ which is **a line that is closer to the original point**.\n",
    "\n",
    "Note that the convergence of the algorithm is only guaranteed if the two classes are linearly separable and the learning rate is sufficiently small, otherwise we can set a maximum number of **epochs** (passes on the training set)."
   ]
  },
  {
   "cell_type": "code",
   "execution_count": 4,
   "metadata": {},
   "outputs": [],
   "source": [
    "import numpy as np\n",
    "# Setting the random seed, feel free to change it and see different solutions.\n",
    "np.random.seed(42)\n",
    "\n",
    "def net_input(X, W):\n",
    "    return np.dot(X, W[1:]) + W[0]\n",
    "\n",
    "def prediction(X, W):\n",
    "    return np.where(net_input(X, W) >= 0.0, 1, -1)\n",
    "\n",
    "# The function should receive as inputs the data X, the labels y,\n",
    "# the weights W (as an array), and the bias b,\n",
    "# update the weights and bias W, b, according to the perceptron algorithm,\n",
    "# and return W and b.\n",
    "def perceptronStep(X, y, W, learn_rate = 0.01):\n",
    "    error = 0\n",
    "    for xi, target in zip(X, y):\n",
    "        update = learn_rate * (target - prediction(xi, W))\n",
    "        W[1:] += update * xi\n",
    "        W[0] += update\n",
    "        error += int(update != 0.0)\n",
    "    return W, error\n",
    "    \n",
    "# This function runs the perceptron algorithm repeatedly on the dataset,\n",
    "# and returns a few of the boundary lines obtained in the iterations,\n",
    "# for plotting purposes.\n",
    "# Feel free to play with the learning rate and the num_epochs,\n",
    "# and see your results plotted below.\n",
    "def trainPerceptronAlgorithm(X, y, learn_rate = 0.01, num_epochs = 25):\n",
    "    x_min, x_max = min(X.T[0]), max(X.T[0])\n",
    "    y_min, y_max = min(X.T[1]), max(X.T[1])\n",
    "    W = np.random.normal(loc=0.0, scale=0.01, size=1 + X.shape[1])\n",
    "    # These are the solution lines that get plotted below.\n",
    "    boundary_lines = []\n",
    "    errors = []\n",
    "    for i in range(num_epochs):\n",
    "        # In each epoch, we apply the perceptron step.\n",
    "        W, error = perceptronStep(X, y, W, learn_rate)\n",
    "        boundary_lines.append(W)\n",
    "        errors.append(error)\n",
    "    return boundary_lines, errors"
   ]
  },
  {
   "cell_type": "markdown",
   "metadata": {},
   "source": [
    "### Visualize the training set"
   ]
  },
  {
   "cell_type": "code",
   "execution_count": 7,
   "metadata": {},
   "outputs": [
    {
     "data": {
      "image/png": "[encoded data removed]",
      "text/plain": [
       "<Figure size 432x288 with 1 Axes>"
      ]
     },
     "metadata": {
      "needs_background": "light"
     },
     "output_type": "display_data"
    }
   ],
   "source": [
    "import pandas as pd\n",
    "import matplotlib.pyplot as plt\n",
    "\n",
    "# Iris dataset (linearly separable data)\n",
    "df = pd.read_csv('https://archive.ics.uci.edu/ml/machine-learning-databases/iris/iris.data',\n",
    "header=None)\n",
    "# select setosa and versicolor\n",
    "y = df.iloc[0:100, 4].values\n",
    "y = np.where(y == 'Iris-setosa', -1, 1)\n",
    "# extract sepal length and petal length\n",
    "X = df.iloc[0:100, [0, 2]].values\n",
    "\n",
    "# Not linearly separable data\n",
    "#data = pd.read_csv(\"datasets/perceptron_data.csv\", header=None)\n",
    "#X = data.iloc[:,[0,1]].to_numpy()\n",
    "#y = data.iloc[:,2].to_numpy()\n",
    "#y = np.where(y == 0, -1, 1)\n",
    "\n",
    "# Plot the data\n",
    "plt.scatter(X[y==1,0], X[y==1,1], color='blue', marker='x', label='y=-1')\n",
    "plt.scatter(X[y==-1,0], X[y==-1,1], color='red', marker='s', label='y=+1', edgecolor='black')\n",
    "plt.legend(loc='upper left')\n",
    "plt.title('Training samples')\n",
    "plt.show()"
   ]
  },
  {
   "cell_type": "markdown",
   "metadata": {},
   "source": [
    "### Train the perceptron algorithm and visualize the result"
   ]
  },
  {
   "cell_type": "code",
   "execution_count": 9,
   "metadata": {},
   "outputs": [
    {
     "data": {
      "image/png": "[encoded data removed]",
      "text/plain": [
       "<Figure size 432x288 with 1 Axes>"
      ]
     },
     "metadata": {
      "needs_background": "light"
     },
     "output_type": "display_data"
    },
    {
     "data": {
      "image/png": "[encoded data removed]",
      "text/plain": [
       "<Figure size 432x288 with 1 Axes>"
      ]
     },
     "metadata": {
      "needs_background": "light"
     },
     "output_type": "display_data"
    }
   ],
   "source": [
    "# Utility function to plot the decision regions\n",
    "from matplotlib.colors import ListedColormap\n",
    "def plot_decision_regions(X, y, W, resolution=0.01):\n",
    "    \n",
    "    # setup marker generator and color map\n",
    "    markers = ('s', 'x', 'o', '^', 'v')\n",
    "    colors = ('red', 'blue', 'lightgreen', 'gray', 'cyan')\n",
    "    cmap = ListedColormap(colors[:len(np.unique(y))])\n",
    "    \n",
    "    # plot the decision surface\n",
    "    x1_min, x1_max = X[:, 0].min() - .1, X[:, 0].max() + .1\n",
    "    x2_min, x2_max = X[:, 1].min() - .1, X[:, 1].max() + .1\n",
    "    xx1, xx2 = np.meshgrid(np.arange(x1_min, x1_max, resolution),\n",
    "                            np.arange(x2_min, x2_max, resolution))\n",
    "    Z = prediction(np.array([xx1.ravel(), xx2.ravel()]).T, W)\n",
    "    Z = Z.reshape(xx1.shape)\n",
    "    plt.contourf(xx1, xx2, Z, alpha=0.3, cmap=cmap)\n",
    "    plt.xlim(xx1.min(), xx1.max())\n",
    "    plt.ylim(xx2.min(), xx2.max())\n",
    "    plt.title('Classification using the perceptron algorithm')\n",
    "    \n",
    "    # plot class samples\n",
    "    for idx, cl in enumerate(np.unique(y)):\n",
    "        plt.scatter(x=X[y == cl, 0],\n",
    "            y=X[y == cl, 1],\n",
    "            alpha=0.8,\n",
    "            c=colors[idx],\n",
    "            marker=markers[idx],\n",
    "            label=cl,\n",
    "            edgecolor='black')\n",
    "        \n",
    "# train the data\n",
    "lines, errors = trainPerceptronAlgorithm(X, y)\n",
    "\n",
    "# plot the misclassification error for each epoch\n",
    "plt.plot(range(1, len(errors) + 1), errors, marker='o')\n",
    "plt.xlabel('Epochs')\n",
    "plt.ylabel('Number of updates')\n",
    "plt.title('Misclassification errors')\n",
    "plt.show()\n",
    "\n",
    "# plot decision regions\n",
    "plot_decision_regions(X, y, lines[-1])"
   ]
  },
  {
   "cell_type": "markdown",
   "metadata": {},
   "source": [
    "# Adaptive linear neurons\n",
    "Another type of single-layer neural network is the Adaptive Linear Neuron (**Adaline**), published by Bernard Widrow in 1960. The main difference with the Perceptron is that the weights are updated based on a *linear activation function* rather than a unit step function (which is still used as a thershold function to make the final prediction). This linear activation function is the identity function of the net input, so that:\n",
    "\n",
    "$$\\phi\\left(w^Tx\\right)=w^Tx$$\n",
    "\n",
    "- **Adaline**: compares the true class labels with the linear activation function's continuous valued ouput to compute the errors.\n",
    "- **Perceptron**: compares the true class labels to the predicted ones to compute the errors.\n",
    "\n",
    "The key factor is an **objective function** that is to be optimized. In this case, the objective function is a cost function, defined as the **sum of squared errors (SSE)** between the predicted output and the true label:\n",
    "\n",
    "$$J(w)=\\frac{1}{2}\\sum_{i}{\\left(y^{(i)}-\\phi\\left(z^{(i)}\\right)\\right)^2}$$\n",
    "\n",
    "The main advantage of using a continous linear activation function, in contrast to the unit step function, is that the cost function becomes differentiable and convex. We can minimize that cost function using **gradient descent**, updating, at each step, the weights by taking a step in the opposite direction of the gradient $\\nabla J(w)$ of the cost function $J(w)$:\n",
    "$$w:= w+\\Delta w$$\n",
    "\n",
    "where $\\Delta w$ is defined as the negative gradient multiplied by the learning rate $\\eta$:\n",
    "\n",
    "$$\\Delta w=-\\eta\\nabla J(w)$$\n",
    "\n",
    "that is:\n",
    "\n",
    "$$\\Delta w_j=-\\eta \\frac{\\partial J}{\\partial w_j}=\\eta \\sum_{i} \\left(y^{(i)}-\\phi \\left(z^{(i)}\\right)\\right)x_j^{(i)}$$\n",
    "\n",
    "**Observation:** The weight update is calculated based on all examples in the training dataset (instead of updating the weights incrementally after each training example), which is why this approach is also referred to as batch\n",
    "gradient descent.\n",
    "\n",
    "**Observation:** There exists many variants of the standard gradiend descent method, for example the [conjugate gradient method](https://en.wikipedia.org/wiki/Conjugate_gradient_method)."
   ]
  },
  {
   "cell_type": "code",
   "execution_count": 10,
   "metadata": {},
   "outputs": [],
   "source": [
    "# Setting the random seed, feel free to change it and see different solutions.\n",
    "np.random.seed(42)\n",
    "\n",
    "def net_input(X, W):\n",
    "    return np.dot(X, W[1:]) + W[0]\n",
    "\n",
    "# This useless function is here to explicit the activation function \n",
    "def activation(X):\n",
    "    return X\n",
    "\n",
    "def prediction(X, W):\n",
    "    return np.where(activation(net_input(X, W)) >= 0.0, 1, -1)\n",
    "\n",
    "# The function should receive as inputs the data X, the labels y,\n",
    "# the weights W (as an array that includes also the bias term w_0)\n",
    "# update the weights W, according to the adaline algorithm,\n",
    "# and return W.\n",
    "def adalineStep(X, y, W, learn_rate = 0.01):\n",
    "    net_input_ = net_input(X, W)\n",
    "    output = activation(net_input_)\n",
    "    errors = (y - output)\n",
    "    W[1:] += learn_rate * X.T.dot(errors)\n",
    "    W[0] += learn_rate * errors.sum()\n",
    "    cost = (errors**2).sum() / 2.0\n",
    "    return W, cost\n",
    "\n",
    "# This function runs the adaline algorithm repeatedly on the dataset,\n",
    "# and returns a few of the boundary lines obtained in the iterations,\n",
    "# for plotting purposes.\n",
    "def trainAdalineAlgorithm(X, y, learn_rate = 0.0005, num_epochs = 25):\n",
    "    x_min, x_max = min(X.T[0]), max(X.T[0])\n",
    "    y_min, y_max = min(X.T[1]), max(X.T[1])\n",
    "    W = np.random.normal(loc=0.0, scale=0.01, size=1 + X.shape[1])\n",
    "    # These are the solution lines that get plotted below.\n",
    "    boundary_lines = []\n",
    "    costs = []\n",
    "    for i in range(num_epochs):\n",
    "        # In each epoch, we apply the adaline step.\n",
    "        W, cost = adalineStep(X, y, W, learn_rate)\n",
    "        boundary_lines.append(W)\n",
    "        costs.append(cost)\n",
    "    return boundary_lines, costs"
   ]
  },
  {
   "cell_type": "markdown",
   "metadata": {},
   "source": [
    "### Train Adaline and visualize the result"
   ]
  },
  {
   "cell_type": "code",
   "execution_count": 11,
   "metadata": {},
   "outputs": [
    {
     "data": {
      "image/png": "[encoded data removed]",
      "text/plain": [
       "<Figure size 432x288 with 1 Axes>"
      ]
     },
     "metadata": {
      "needs_background": "light"
     },
     "output_type": "display_data"
    },
    {
     "data": {
      "image/png": "[encoded data removed]",
      "text/plain": [
       "<Figure size 432x288 with 1 Axes>"
      ]
     },
     "metadata": {
      "needs_background": "light"
     },
     "output_type": "display_data"
    }
   ],
   "source": [
    "def plot_decision_regions(X, y, W, resolution=0.01):\n",
    "    \n",
    "    # setup marker generator and color map\n",
    "    markers = ('s', 'x', 'o', '^', 'v')\n",
    "    colors = ('red', 'blue', 'lightgreen', 'gray', 'cyan')\n",
    "    cmap = ListedColormap(colors[:len(np.unique(y))])\n",
    "    \n",
    "    # plot the decision surface\n",
    "    x1_min, x1_max = X[:, 0].min() - .1, X[:, 0].max() + .1\n",
    "    x2_min, x2_max = X[:, 1].min() - .1, X[:, 1].max() + .1\n",
    "    xx1, xx2 = np.meshgrid(np.arange(x1_min, x1_max, resolution),\n",
    "                            np.arange(x2_min, x2_max, resolution))\n",
    "    Z = prediction(np.array([xx1.ravel(), xx2.ravel()]).T, W)\n",
    "    Z = Z.reshape(xx1.shape)\n",
    "    plt.contourf(xx1, xx2, Z, alpha=0.3, cmap=cmap)\n",
    "    plt.xlim(xx1.min(), xx1.max())\n",
    "    plt.ylim(xx2.min(), xx2.max())\n",
    "    plt.title('Classification using the perceptron algorithm')\n",
    "    \n",
    "    # plot class samples\n",
    "    for idx, cl in enumerate(np.unique(y)):\n",
    "        plt.scatter(x=X[y == cl, 0],\n",
    "            y=X[y == cl, 1],\n",
    "            alpha=0.8,\n",
    "            c=colors[idx],\n",
    "            marker=markers[idx],\n",
    "            label=cl,\n",
    "            edgecolor='black')\n",
    "        \n",
    "# train the data\n",
    "lines, costs = trainAdalineAlgorithm(X, y)\n",
    "\n",
    "# plot the misclassification error for each epoch\n",
    "plt.plot(range(1, len(costs) + 1), costs, marker='o')\n",
    "plt.xlabel('Epochs')\n",
    "plt.ylabel('Sum-squared-error')\n",
    "plt.title('Misclassification errors')\n",
    "plt.show()\n",
    "# plot decision regions\n",
    "plot_decision_regions(X, y, lines[-1])"
   ]
  },
  {
   "cell_type": "markdown",
   "metadata": {},
   "source": [
    "**Observation:** choosing a learning rate that is too big (e.g. 0.01), may lead to a continuously increasing error. We can easily visualize it by choosing `learn_rate = 0.01` and plotting the `costs` vector on a semilog plot."
   ]
  },
  {
   "cell_type": "markdown",
   "metadata": {},
   "source": [
    "# Feature scaling\n",
    "Many optimization algorithms benefit from feature scaling methods. Gradient descent is one of them, and we can improve its performance by using ***standardization***, giving our data the properties of a standard normal distribution: *zero-mean* and *unit variance*. Doing that will allow the optimizer to go through fewer steps to find a good solution.\n",
    "\n",
    "To **standardize the *j*th feature**, we can subract the sample mean $\\mu_j$ from every training example and divide it by its standard deviation $\\sigma_j$:\n",
    "\n",
    "$$x_j' = \\frac{x_j-\\mu_j}{\\sigma_j}$$\n",
    "\n",
    "where $x_j$ is a vector containing the values of the *j*th feature for all the $n$ traning examples"
   ]
  },
  {
   "cell_type": "code",
   "execution_count": 12,
   "metadata": {},
   "outputs": [
    {
     "data": {
      "image/png": "[encoded data removed]",
      "text/plain": [
       "<Figure size 432x288 with 1 Axes>"
      ]
     },
     "metadata": {
      "needs_background": "light"
     },
     "output_type": "display_data"
    },
    {
     "data": {
      "image/png": "[encoded data removed]",
      "text/plain": [
       "<Figure size 432x288 with 1 Axes>"
      ]
     },
     "metadata": {
      "needs_background": "light"
     },
     "output_type": "display_data"
    }
   ],
   "source": [
    "# standardize the data\n",
    "X_std = np.copy(X)\n",
    "X_std[:,0] = (X[:,0] - X[:,0].mean()) / X[:,0].std()\n",
    "X_std[:,1] = (X[:,1] - X[:,1].mean()) / X[:,1].std()\n",
    "\n",
    "# train the data\n",
    "lines, costs = trainAdalineAlgorithm(X_std, y, learn_rate=0.01, num_epochs=15)\n",
    "\n",
    "# plot the misclassification error for each epoch\n",
    "plt.plot(range(1, len(costs) + 1), costs, marker='o')\n",
    "plt.xlabel('Epochs')\n",
    "plt.ylabel('Sum-squared-error')\n",
    "plt.title('Misclassification errors')\n",
    "plt.show()\n",
    "# plot decision regions\n",
    "plot_decision_regions(X_std, y, lines[-1])"
   ]
  },
  {
   "cell_type": "markdown",
   "metadata": {},
   "source": [
    "# Large-scale ML and stochastic gradient descent\n",
    "Suppose that we have a very large dataset, containing millions of entries. Batch gradient descent can be computationally high costly since we need to reevaluate the whole training set each time we take a step through the global minimum.\n",
    "At this point, an alternative to the batch gradiend descent comes in our help: the **stochastic gradiend descent (SGD)**.\n",
    "\n",
    "Instead of updating the weights based on the sum of the accumulated errors over all training examples, weights are incrementally updated for each training example:\n",
    "\n",
    "$$\\eta\\left(y^{(i)}-\\phi(z^{(i)})\\right)x^{(i)}$$\n",
    "\n",
    "Note that SGD doesn't reach the global minimum but an area very close to it. One advantage of SGD is that it can be used for **online learning**, where the model is trained and updated as new training data comes.\n",
    "\n",
    "**Observation:** More satisfying results can be obtained via SGD by presenting training data in random order; also, we want to shuffle the training set for every epoch to prevent cycles.\n",
    "\n",
    "### Dynamic learning rate\n",
    "Instead of using a fixed, chosen a priori, learning rate, $\\eta$ is often replaced by a learning rate that decreases over time, for example:\n",
    "\n",
    "$$\\eta = \\frac{c_1}{[\\text{number of iterations}] + c_2}$$\n",
    "\n",
    "where $c_1$ and $c_2$ are constants.\n",
    "\n",
    "### Mini-batch gradient descent\n",
    "Mini-batch learning can be thought as applying batch gradient descent to smaller subsets of the training data. The convergence is reached faster than with the batch gradient descent because of the frequent weight updates. Furthermore, mini-batch learning allows us to replace the `for` loop over the training examples in SGD with vectorized operations (for example, implementing a weighted sum via a dot product), which can improve the computational efficiency.\n"
   ]
  },
  {
   "cell_type": "code",
   "execution_count": 13,
   "metadata": {},
   "outputs": [],
   "source": [
    "class AdalineSGD(object):\n",
    "    \"\"\"ADAptive LInear NEuron classifier.\n",
    "\n",
    "    Parameters\n",
    "    ------------\n",
    "    eta : float\n",
    "      Learning rate (between 0.0 and 1.0)\n",
    "    n_iter : int\n",
    "      Passes over the training dataset.\n",
    "    shuffle : bool (default: True)\n",
    "      Shuffles training data every epoch if True to prevent cycles.\n",
    "    random_state : int\n",
    "      Random number generator seed for random weight\n",
    "      initialization.\n",
    "\n",
    "\n",
    "    Attributes\n",
    "    -----------\n",
    "    w_ : 1d-array\n",
    "      Weights after fitting.\n",
    "    cost_ : list\n",
    "      Sum-of-squares cost function value averaged over all\n",
    "      training examples in each epoch.\n",
    "\n",
    "        \n",
    "    \"\"\"\n",
    "    def __init__(self, eta=0.01, n_iter=10, shuffle=True, random_state=None):\n",
    "        self.eta = eta\n",
    "        self.n_iter = n_iter\n",
    "        self.w_initialized = False\n",
    "        self.shuffle = shuffle\n",
    "        self.random_state = random_state\n",
    "        \n",
    "    def fit(self, X, y):\n",
    "        \"\"\" Fit training data.\n",
    "\n",
    "        Parameters\n",
    "        ----------\n",
    "        X : {array-like}, shape = [n_examples, n_features]\n",
    "          Training vectors, where n_examples is the number of examples and\n",
    "          n_features is the number of features.\n",
    "        y : array-like, shape = [n_examples]\n",
    "          Target values.\n",
    "\n",
    "        Returns\n",
    "        -------\n",
    "        self : object\n",
    "\n",
    "        \"\"\"\n",
    "        self._initialize_weights(X.shape[1])\n",
    "        self.cost_ = []\n",
    "        for i in range(self.n_iter):\n",
    "            if self.shuffle:\n",
    "                X, y = self._shuffle(X, y)\n",
    "            cost = []\n",
    "            for xi, target in zip(X, y):\n",
    "                cost.append(self._update_weights(xi, target))\n",
    "            avg_cost = sum(cost) / len(y)\n",
    "            self.cost_.append(avg_cost)\n",
    "        return self\n",
    "\n",
    "    def partial_fit(self, X, y):\n",
    "        \"\"\"Fit training data without reinitializing the weights\"\"\"\n",
    "        if not self.w_initialized:\n",
    "            self._initialize_weights(X.shape[1])\n",
    "        if y.ravel().shape[0] > 1: # if it is a batch\n",
    "            for xi, target in zip(X, y):\n",
    "                self._update_weights(xi, target)\n",
    "        else:\n",
    "            self._update_weights(X, y)\n",
    "        return self\n",
    "\n",
    "    def _shuffle(self, X, y):\n",
    "        \"\"\"Shuffle training data\"\"\"\n",
    "        r = self.rgen.permutation(len(y))\n",
    "        return X[r], y[r]\n",
    "    \n",
    "    def _initialize_weights(self, m):\n",
    "        \"\"\"Initialize weights to small random numbers\"\"\"\n",
    "        self.rgen = np.random.RandomState(self.random_state)\n",
    "        self.w_ = self.rgen.normal(loc=0.0, scale=0.01, size=1 + m)\n",
    "        self.w_initialized = True\n",
    "        \n",
    "    def _update_weights(self, xi, target):\n",
    "        \"\"\"Apply Adaline learning rule to update the weights\"\"\"\n",
    "        output = self.activation(self.net_input(xi))\n",
    "        error = (target - output)\n",
    "        self.w_[1:] += self.eta * xi.dot(error)\n",
    "        self.w_[0] += self.eta * error\n",
    "        cost = 0.5 * error**2\n",
    "        return cost\n",
    "    \n",
    "    def net_input(self, X):\n",
    "        \"\"\"Calculate net input\"\"\"\n",
    "        return np.dot(X, self.w_[1:]) + self.w_[0]\n",
    "\n",
    "    def activation(self, X):\n",
    "        \"\"\"Compute linear activation\"\"\"\n",
    "        return X\n",
    "\n",
    "    def predict(self, X):\n",
    "        \"\"\"Return class label after unit step\"\"\"\n",
    "        return np.where(self.activation(self.net_input(X)) >= 0.0, 1, -1)"
   ]
  },
  {
   "cell_type": "code",
   "execution_count": 14,
   "metadata": {},
   "outputs": [
    {
     "data": {
      "image/png": "[encoded data removed]",
      "text/plain": [
       "<Figure size 432x288 with 1 Axes>"
      ]
     },
     "metadata": {
      "needs_background": "light"
     },
     "output_type": "display_data"
    },
    {
     "data": {
      "image/png": "[encoded data removed]",
      "text/plain": [
       "<Figure size 432x288 with 1 Axes>"
      ]
     },
     "metadata": {
      "needs_background": "light"
     },
     "output_type": "display_data"
    }
   ],
   "source": [
    "from matplotlib.colors import ListedColormap\n",
    "\n",
    "def plot_decision_regions(X, y, classifier, resolution=0.02):\n",
    "\n",
    "    # setup marker generator and color map\n",
    "    markers = ('s', 'x', 'o', '^', 'v')\n",
    "    colors = ('red', 'blue', 'lightgreen', 'gray', 'cyan')\n",
    "    cmap = ListedColormap(colors[:len(np.unique(y))])\n",
    "\n",
    "    # plot the decision surface\n",
    "    x1_min, x1_max = X[:, 0].min() - 1, X[:, 0].max() + 1\n",
    "    x2_min, x2_max = X[:, 1].min() - 1, X[:, 1].max() + 1\n",
    "    xx1, xx2 = np.meshgrid(np.arange(x1_min, x1_max, resolution),\n",
    "                           np.arange(x2_min, x2_max, resolution))\n",
    "    Z = classifier.predict(np.array([xx1.ravel(), xx2.ravel()]).T) # classify each point of the meshgrid\n",
    "    Z = Z.reshape(xx1.shape)\n",
    "    plt.contourf(xx1, xx2, Z, alpha=0.3, cmap=cmap)\n",
    "    plt.xlim(xx1.min(), xx1.max())\n",
    "    plt.ylim(xx2.min(), xx2.max())\n",
    "\n",
    "    # plot class examples\n",
    "    for idx, cl in enumerate(np.unique(y)):\n",
    "        plt.scatter(x=X[y == cl, 0], \n",
    "                    y=X[y == cl, 1],\n",
    "                    alpha=0.8, \n",
    "                    c=colors[idx],\n",
    "                    marker=markers[idx], \n",
    "                    label=cl, \n",
    "                    edgecolor='black')\n",
    "\n",
    "# Train Adaline with stochastic gradient descent\n",
    "ada_sgd = AdalineSGD(n_iter=15, eta=0.01, random_state=1)\n",
    "ada_sgd.fit(X_std, y)\n",
    "\n",
    "plot_decision_regions(X_std, y, classifier=ada_sgd)\n",
    "plt.title('Adaline - Stochastic Gradient Descent')\n",
    "plt.xlabel('sepal length [standardized]')\n",
    "plt.ylabel('petal length [standardized]')\n",
    "plt.legend(loc='upper left')\n",
    "\n",
    "plt.tight_layout()\n",
    "plt.show()\n",
    "\n",
    "plt.plot(range(1, len(ada_sgd.cost_) + 1), ada_sgd.cost_, marker='o')\n",
    "plt.xlabel('Epochs')\n",
    "plt.ylabel('Average Cost')\n",
    "\n",
    "plt.tight_layout()\n",
    "plt.show()"
   ]
  },
  {
   "cell_type": "markdown",
   "metadata": {},
   "source": [
    "In an online learning scenario, we could call the `partial_fit` method on individual training examples, for instance `ada_sgd.partial_fit(X_std[0, :], y[0])`"
   ]
  }
 ],
 "metadata": {
  "kernelspec": {
   "display_name": "Python 3",
   "language": "python",
   "name": "python3"
  },
  "language_info": {
   "codemirror_mode": {
    "name": "ipython",
    "version": 3
   },
   "file_extension": ".py",
   "mimetype": "text/x-python",
   "name": "python",
   "nbconvert_exporter": "python",
   "pygments_lexer": "ipython3",
   "version": "3.7.6"
  }
 },
 "nbformat": 4,
 "nbformat_minor": 2
}
