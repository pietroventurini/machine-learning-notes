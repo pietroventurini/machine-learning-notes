{
 "cells": [
  {
   "cell_type": "markdown",
   "metadata": {
    "colab_type": "text",
    "id": "KS2k2lL_qYnJ"
   },
   "source": [
    "<a href=\"https://colab.research.google.com/github/pietroventurini/machine-learning-notes/blob/master/6%20-%20Introduction%20to%20Neural%20Networks%20and%20Deep%20Learning.ipynb\" target=\"_parent\"><img src=\"https://colab.research.google.com/assets/colab-badge.svg\" alt=\"Open In Colab\"/></a>"
   ]
  },
  {
   "cell_type": "markdown",
   "metadata": {
    "colab_type": "text",
    "id": "-13kSsgHqXyW"
   },
   "source": [
    "# Introduction to Neural Networks and Deep Learning\n",
    "## Contents\n",
    "1. [**Historical background**](#Historical-background)\n",
    "2. [**The Perceptron Algorithm**](#The-perceptron-algorithm)  \n",
    "    2.1. The algorithm  \n",
    "    2.2. Perceptrons as Logical Operators  \n",
    "    2.3. Implementing the Perceptron  \n",
    "3. [**Adaptive Linear Neurons (ADALINE)**](#Adaptive-Linear-Neurons-(ADALINE))  \n",
    "    3.1. Batch gradient descent  \n",
    "    3.2. Implementing Adaline  \n",
    "4. [**Feature scaling**](#Feature-scaling)  \n",
    "5. [**Large-scale ML and stochastic gradient descent**](#Large-scale-ML-and-stochastic-gradient-descent)  \n",
    "    5.1. Mini-batch gradient descent"
   ]
  },
  {
   "cell_type": "markdown",
   "metadata": {
    "colab_type": "text",
    "id": "fjCroBogqXyZ"
   },
   "source": [
    "# Historical background\n",
    "Deep learning is an approach to AI that consists in computers to learn from experience and understand the world in terms of a hierarchy of concepts, each of which is defined in terms of its relation to simpler concepts. If we draw a graph showing how these concepts are built on top of each other, we would obtain a deep graph with many layers, that's why we call it **deep learning**. In order to behave intelligently, computers need to capture the knowledge people have about the world, much of which is subjective, intuitive and difficult to articulate formally. \n",
    "\n",
    "There have been several approaches to get this informal knowledge into a computer:\n",
    "1. **Knowledge base:** hard-code knowledge into statements using formal languages. A computer can reason about these statements using logical inference rules.\n",
    "2. **Classic machine learning:** it allows computer to acquire their own knowledge by extracting patterns from raw data. The performance of ML algorithms (e.g. Logistic Regression, Naive Bayes...) depends on the **representation** of the data they work with. Unfortunately, for many tasks, it is difficult to know what features should be extracted.\n",
    "3. **Representation learning:** use ML to discover not only the mapping from representation to output but also the representation itself. An example of a representation learning algorithm is the **autoencoder** (a combination of an encoder and a decoder). When designing features our goal is usually to separate the **factors of variation** that explain the observed data. Such factors typically are unobserved objects or forces in the physical world that affect observable quantities.\n",
    "4. **Deep learning:** extracting high-level features from raw data (e.g. the speaker's accent from a raw audio) can be difficult in some cases. Deep learning solves this problem by representing the world as a hierarchy of concepts, each of which is defined in relation to simpler concepts, and more abstract representations computed in terms of less abstract ones. An example is the *multilayer perceptron* (MLP).\n",
    "\n",
    "Deep learning dates back to the 1940s, going through different names through the years: **cybernetics** (1940s-1960s), **connectionsim** (1980s-1990s), **deep learning** (beginning in 2006). Some of the earliest learning algorithms aimed to be computational models of biological learning (how the brain works). This is why we hear about **artificial neural networks** (ANNs). Neural networks are generally not designed to realistically model biological functions, even if they are systems inspired by the biological brain (which provides a proof by example that intelligent behavior is achievable). The term deep learning goes beyond the neuroscientific perspective, appealing instead to a more general principle of learning multiple levels of composition.\n",
    "\n",
    "- 1943: McCulloch-Pitts Neuron. It was an early model of brain function where the weights of the function mapping inputs to outputs needed to be manually set.\n",
    "- 1958: Rosenblatt's perceptron algorithm. The first model that could learn the weights.\n",
    "- 1960: Adaptive Linear Element (ADALINE).\n",
    "\n",
    "Linear models have many limitations, for instance, they can't learn the XOR function. This was the first major dip in neural networks' popularity.\n",
    "- 1975: Cognitron (by Kunihiko Fukushima). A model inspired from our knowledge of brain functions.\n",
    "- 1980: Neocognitron. It will later become the basis for the modern convolutional networks.\n",
    "\n",
    "In the 1980s, a movement called *connectionism* emerged in the context of cognitive science. The basic idea is to have many simple computational units that become intelligent by interacting with each other.\n",
    "- 1986: the back-propagation algorithm starts to gain popularity.\n",
    "- 1987: long short-term (LSTM) memory network. It aimed to modeling long sequences with neural networks. It is widely used today for many sequence modeling problems (e.g. natural language processing).\n",
    "\n",
    "In the mid 1990s, neural networks' popularity started its decline, due to the advance of other fields of machine learning (e.g. Kernel machines and graphical models both achieved good results on many tasks). Deep networks was believed to be very difficult to train with the hardware available at the time. The third wave of neural networks research began in 2006.\n",
    "- 2006: deep belief network. A kind of neural network that can be efficiently trained using a strategy called *greedy layer-wise pre-training*.\n",
    "\n",
    "From that moment, the term *deep learning* began to gain popularity. The third wave began with a focus on new unsupervised learning techniques and their ability to generalize well from small datasets, but today the interest is on older supervised learning algorithms and the ability of deep models to leverage large labeled datasets.\n",
    "\n",
    "Two crucial factors that led to today's success of neural networks are the increase in the size of the datasets used to train them, and the increase of computational power (faster CPUs, general purpose GPUs, better software infrastructure for distributed computing), allowing models to grow in size in terms of connections per neuron (matching in some cases the number of connections per neuron of mammalian brains, such as mice or cats) and number of hidden layers. As scale and accuracy of deep networks has increased, so has the complexity of the problems that they can solve. Deep learning extends also to other domains, for example the domain of *reinforcement learning*."
   ]
  },
  {
   "cell_type": "markdown",
   "metadata": {
    "colab_type": "text",
    "id": "f-8EOUPMqXya"
   },
   "source": [
    "# The perceptron algorithm\n",
    "\n",
    "The perceptron algorithm belongs to the category of classification algorithms, and it is the basis of a neural network. The first concept of the perceptron learning rule was published by Frank Rosenblatt in 1957, and it was based on the McCullock-Pitts (MCP) neuron model: a concept of a simplified brain cell, published by Warren McCullok and Walter Pitts in 1943. Neurons are interconnected brain cells in the brain; McCullock and Pitts described such a nerve cell as a simple logic gate with binary outputs; multiple signals arrive at the dendrites, are then integrated into the cell body, and, if the accumulated signal exceeds a certain threshold, an output signal is generated that will be passed on by the axon.\n",
    "\n",
    "<img src=\"images/Perceptron/neuron.png\" style=\"width:30em; display: block; margin-left: auto; margin-right: auto; \"/>\n",
    "\n",
    "We can pose this problem as a binary classification task where we refer to the two classes as 1 (positive class) and -1 (negative class). Then, there is an **activation function** $\\phi(z)$ that takes a linear combination of certain input vector $\\bf{x}\\in \\mathbb{R}^m$ and a corresponding weight vector $\\bf{w}\\in\\mathbb{R}^m$, where $z=w^\\top x = w_1x_1+...+w_mx_m$ is called the **net input**.\n",
    "\n",
    "In the perceptron algorithm, the activation function $\\phi(z)$ is a variant of the unit step function:\n",
    "\n",
    "$$\\phi(z)=\\begin{cases}1 & \\text{if }z\\ge \\theta \\\\ -1 & \\text{otherwise}\\end{cases}$$\n",
    "\n",
    "We can bring the threshold $\\theta$ to the left side of the equation and define $w_0=-\\theta$ and $x_0=1$, so that $z=w^\\top x$ and we can write:\n",
    "\n",
    "$$\\phi(z)=\\begin{cases}1 & \\text{if }z\\ge 0 \\\\ -1 & \\text{otherwise}\\end{cases}$$\n",
    "\n",
    "The weight $w_0=-\\theta$ is usually called the **bias unit**. The error, meaning the difference between the prediction (the value computed by the activation function) and the true label is used as a feedback in order to tune the weights.\n",
    "\n",
    "The perceptron algorithm has the following structure:\n",
    "\n",
    "<img src=\"images/Perceptron/perceptron_schema.jpg\" style=\"width:35em; display: block; margin-left: auto; margin-right: auto;\"/>\n",
    "\n",
    "For instance, in $\\mathbb{R}^2$ we would have:\n",
    "$$w = \\begin{bmatrix}w_0 \\\\ w_1 \\\\ w_2\\end{bmatrix} \\qquad x= \\begin{bmatrix}1 \\\\ x_1 \\\\ x_2\\end{bmatrix}$$\n",
    "\n",
    "with $w^\\top x = w_1x_1 + w_2x_2 + w_0= 0$ being a line (a hyperplane of dimension 1) in $\\mathbb{R}^2$."
   ]
  },
  {
   "cell_type": "markdown",
   "metadata": {
    "colab_type": "text",
    "id": "NUJXqotIqXyb"
   },
   "source": [
    "## The algorithm\n",
    "\n",
    "```python\n",
    "Initialize w_0...w_m to 0 or to small random values\n",
    "for each misclassified Input:\n",
    "    if prediction = -1:\n",
    "        for j=0...m:\n",
    "            w_j = w_j + learn_rate * x_j\n",
    "    if prediction = 1:\n",
    "        for j=0...m:\n",
    "            w_j = w_j - learn_rate * x_j\n",
    "```\n",
    "\n",
    "This process is iterated until a termination condition is reached (e.g. the average error of the i-th iteration is less than a user-specified threshold) or for a certain number of iterations.\n",
    "\n",
    "In a more general way, the update term for the j-th weight $w_j$ is calculated by the perceptron learning rule:\n",
    "\n",
    "$$\\Delta w_j = \\eta \\left(y^{(i)}-\\hat{y}^{(i)}\\right)x_j^{(i)}$$\n",
    "\n",
    "where:\n",
    "- $\\eta \\in (0,1)$ is the learning rate\n",
    "- $y^{(i)}$ is the true class label of the i-th training sample\n",
    "- $\\hat{y}^{(i)}$ is the predicted class label\n",
    "- $x_j^{(i)}$ is the j-th component of the i-th input vector\n",
    "\n",
    "Note that all the weights are updated simultaneously, meaning that the predicted label $\\hat{y}^{(i)}$ is not recomputed before all of the weights are updated. Note also that if a point gets correctly classified, then $y^{(i)}-\\hat{y}^{(i)}=0$ and so it will not cause any variation to the weights.\n",
    "\n",
    "### Example in $\\mathbb{R}^2$\n",
    "In $\\mathbb{R}^2$, the input vector $x$ has 2 components (plus the component $x_0=1$ to account for the bias term). The main idea behind this algorithm is to start from an initial line, let's say $-10+3x_1+4x_2=0$ (in this case $w^\\top=\\left[-10, 3, 4\\right]$) and consider a misclassified point, let it be $(4,5)$. First we add a bias term to the point that will become $(1,4,5)$, then we multiply its components for a learning rate $\\eta$, let's say $\\eta=0.1$, and we subtract it to the equation of the line, obtaining $(-10-0.1)+(3-0.4)x_1+(4-0.5)x_2+=0$ that is $-10.1+2.6x_1+3.5x_2=0$ which is **a line that is closer to the original point**.\n",
    "\n",
    "Note that the **convergence** of the algorithm is only guaranteed if the two classes are linearly separable and the learning rate is sufficiently small, otherwise we can set a maximum number of **epochs** (iterations on the training set) before arresting the algorithm."
   ]
  },
  {
   "cell_type": "markdown",
   "metadata": {
    "colab_type": "text",
    "id": "34OFOetsqXye"
   },
   "source": [
    "## Perceptrons as Logical Operators\n",
    "The perceptron algorithm can be used to reproduce the behavior of logical ports. In particular, we can combine multiple neurons (logical ports) in a network in order to obtain more complex logical functions.\n",
    "\n",
    "**Note:** only linear function can be implemented using the perceptron. For example, we can not implement a XOR logic gate.\n",
    "\n",
    "In the following code snippet, we'll implement a logical AND port using a perceptron."
   ]
  },
  {
   "cell_type": "code",
   "execution_count": 21,
   "metadata": {
    "colab": {},
    "colab_type": "code",
    "id": "pQ1B24RxqXye"
   },
   "outputs": [],
   "source": [
    "# Load imports\n",
    "import numpy as np\n",
    "import pandas as pd\n",
    "from matplotlib import pyplot as plt\n",
    "from matplotlib.colors import ListedColormap"
   ]
  },
  {
   "cell_type": "code",
   "execution_count": 22,
   "metadata": {
    "colab": {},
    "colab_type": "code",
    "id": "oQ2QbWowqXyo",
    "outputId": "b7cddad4-3182-49d3-b5e4-de3ddaff33f6"
   },
   "outputs": [
    {
     "name": "stdout",
     "output_type": "stream",
     "text": [
      "You got it all correct.\n",
      "\n",
      " Input 1    Input 2    Linear Combination    Activation Output   Is Correct\n",
      "       0          0                  -2.0                    0          Yes\n",
      "       0          1                  -1.0                    0          Yes\n",
      "       1          0                  -1.0                    0          Yes\n",
      "       1          1                   0.0                    1          Yes\n"
     ]
    }
   ],
   "source": [
    "# Set weight1, weight2, and bias\n",
    "weight1 = 1.0\n",
    "weight2 = 1.0\n",
    "bias = -2.0\n",
    "\n",
    "# Inputs and outputs\n",
    "test_inputs = [(0, 0), (0, 1), (1, 0), (1, 1)]\n",
    "correct_outputs = [False, False, False, True]\n",
    "outputs = []\n",
    "\n",
    "# Generate and check output\n",
    "for test_input, correct_output in zip(test_inputs, correct_outputs):\n",
    "    linear_combination = weight1 * test_input[0] + weight2 * test_input[1] + bias\n",
    "    output = int(linear_combination >= 0)\n",
    "    is_correct_string = 'Yes' if output == correct_output else 'No'\n",
    "    outputs.append([test_input[0], test_input[1], linear_combination, output, is_correct_string])\n",
    "\n",
    "# Print output\n",
    "num_wrong = len([output[4] for output in outputs if output[4] == 'No'])\n",
    "output_frame = pd.DataFrame(outputs, columns=['Input 1', '  Input 2', '  Linear Combination', '  Activation Output', '  Is Correct'])\n",
    "if not num_wrong:\n",
    "    print('You got it all correct.\\n')\n",
    "else:\n",
    "    print('You got {} wrong.  Keep trying!\\n'.format(num_wrong))\n",
    "print(output_frame.to_string(index=False))"
   ]
  },
  {
   "cell_type": "markdown",
   "metadata": {
    "colab_type": "text",
    "id": "DkxYdnBNqXyv"
   },
   "source": [
    "## Implementing the Perceptron"
   ]
  },
  {
   "cell_type": "code",
   "execution_count": 23,
   "metadata": {
    "colab": {},
    "colab_type": "code",
    "id": "4_ceJ7-GqXyw"
   },
   "outputs": [],
   "source": [
    "# Setting the random seed, feel free to change it and see different solutions.\n",
    "np.random.seed(42)\n",
    "\n",
    "def net_input(X, W):\n",
    "    return np.dot(X, W[1:]) + W[0]\n",
    "\n",
    "def prediction(X, W):\n",
    "    return np.where(net_input(X, W) >= 0.0, 1, -1)\n",
    "\n",
    "# The function should receive as inputs the data X, the labels y,\n",
    "# the weights W (as an array), and the bias b,\n",
    "# update the weights and bias W, b, according to the perceptron algorithm,\n",
    "# and return W and b.\n",
    "def perceptronStep(X, y, W, learn_rate = 0.01):\n",
    "    error = 0\n",
    "    for xi, target in zip(X, y):\n",
    "        update = learn_rate * (target - prediction(xi, W))\n",
    "        W[1:] += update * xi\n",
    "        W[0] += update\n",
    "        error += int(update != 0.0)\n",
    "    return W, error\n",
    "    \n",
    "# This function runs the perceptron algorithm repeatedly on the dataset,\n",
    "# and returns a few of the boundary lines obtained in the iterations,\n",
    "# for plotting purposes.\n",
    "# Feel free to play with the learning rate and the num_epochs,\n",
    "# and see your results plotted below.\n",
    "def trainPerceptronAlgorithm(X, y, learn_rate = 0.01, num_epochs = 25):\n",
    "    x_min, x_max = min(X.T[0]), max(X.T[0])\n",
    "    y_min, y_max = min(X.T[1]), max(X.T[1])\n",
    "    W = np.random.normal(loc=0.0, scale=0.01, size=1 + X.shape[1])\n",
    "    # These are the solution lines that get plotted below.\n",
    "    boundary_lines = []\n",
    "    errors = []\n",
    "    for i in range(num_epochs):\n",
    "        # In each epoch, we apply the perceptron step.\n",
    "        W, error = perceptronStep(X, y, W, learn_rate)\n",
    "        boundary_lines.append(W)\n",
    "        errors.append(error)\n",
    "    return boundary_lines, errors"
   ]
  },
  {
   "cell_type": "markdown",
   "metadata": {
    "colab_type": "text",
    "id": "TGFcTnh5qXy1"
   },
   "source": [
    "### Visualize the training set"
   ]
  },
  {
   "cell_type": "code",
   "execution_count": 24,
   "metadata": {
    "colab": {},
    "colab_type": "code",
    "id": "c9_myv5vqXy3",
    "outputId": "ad1427ad-26b1-4059-872e-8a98b6343fe1"
   },
   "outputs": [
    {
     "data": {
      "image/png": "[encoded data removed]",
      "text/plain": [
       "<Figure size 432x288 with 1 Axes>"
      ]
     },
     "metadata": {
      "needs_background": "light"
     },
     "output_type": "display_data"
    }
   ],
   "source": [
    "# Iris dataset (linearly separable data)\n",
    "df = pd.read_csv('datasets/generic/iris.csv', header=None)\n",
    "\n",
    "# select setosa and versicolor\n",
    "y = df.iloc[0:100, 4].values\n",
    "y = np.where(y == 'Iris-setosa', -1, 1)\n",
    "# extract sepal length and petal length\n",
    "X = df.iloc[0:100, [0, 2]].values\n",
    "\n",
    "\"\"\"\n",
    "# Not linearly separable data\n",
    "data = pd.read_csv('datasets/perceptron_data.csv', header=None)\n",
    "X = data.iloc[:,[0,1]].to_numpy()\n",
    "y = data.iloc[:,2].to_numpy()\n",
    "y = np.where(y == 0, -1, 1)\n",
    "\"\"\"\n",
    "# Plot the data\n",
    "plt.scatter(X[y==1,0], X[y==1,1], color='blue', marker='x', label='y=-1')\n",
    "plt.scatter(X[y==-1,0], X[y==-1,1], color='red', marker='s', label='y=+1', edgecolor='black')\n",
    "plt.legend(loc='upper left')\n",
    "plt.title('Training samples')\n",
    "plt.show()"
   ]
  },
  {
   "cell_type": "markdown",
   "metadata": {
    "colab_type": "text",
    "id": "eCdaDwWuqXy8"
   },
   "source": [
    "### Train the perceptron algorithm and visualize the result"
   ]
  },
  {
   "cell_type": "code",
   "execution_count": 25,
   "metadata": {
    "colab": {},
    "colab_type": "code",
    "id": "9XpsWqUmqXy9",
    "outputId": "02059187-1716-4517-f717-79cfa57f5985"
   },
   "outputs": [
    {
     "data": {
      "image/png": "[encoded data removed]",
      "text/plain": [
       "<Figure size 432x288 with 1 Axes>"
      ]
     },
     "metadata": {
      "needs_background": "light"
     },
     "output_type": "display_data"
    },
    {
     "data": {
      "image/png": "[encoded data removed]",
      "text/plain": [
       "<Figure size 432x288 with 1 Axes>"
      ]
     },
     "metadata": {
      "needs_background": "light"
     },
     "output_type": "display_data"
    }
   ],
   "source": [
    "# Utility function to plot the decision regions\n",
    "def plot_decision_regions(X, y, W, resolution=0.01):\n",
    "    \n",
    "    # setup marker generator and color map\n",
    "    markers = ('s', 'x', 'o', '^', 'v')\n",
    "    colors = ('red', 'blue', 'lightgreen', 'gray', 'cyan')\n",
    "    cmap = ListedColormap(colors[:len(np.unique(y))])\n",
    "    \n",
    "    # plot the decision surface\n",
    "    x1_min, x1_max = X[:, 0].min() - .1, X[:, 0].max() + .1\n",
    "    x2_min, x2_max = X[:, 1].min() - .1, X[:, 1].max() + .1\n",
    "    xx1, xx2 = np.meshgrid(np.arange(x1_min, x1_max, resolution),\n",
    "                            np.arange(x2_min, x2_max, resolution))\n",
    "    Z = prediction(np.array([xx1.ravel(), xx2.ravel()]).T, W)\n",
    "    Z = Z.reshape(xx1.shape)\n",
    "    plt.contourf(xx1, xx2, Z, alpha=0.3, cmap=cmap)\n",
    "    plt.xlim(xx1.min(), xx1.max())\n",
    "    plt.ylim(xx2.min(), xx2.max())\n",
    "    plt.title('Classification using the perceptron algorithm')\n",
    "    \n",
    "    # plot class samples\n",
    "    for idx, cl in enumerate(np.unique(y)):\n",
    "        plt.scatter(x=X[y == cl, 0],\n",
    "            y=X[y == cl, 1],\n",
    "            alpha=0.8,\n",
    "            c=colors[idx],\n",
    "            marker=markers[idx],\n",
    "            label=cl,\n",
    "            edgecolor='black')\n",
    "        \n",
    "# train the data\n",
    "lines, errors = trainPerceptronAlgorithm(X, y)\n",
    "\n",
    "# plot the misclassification error for each epoch\n",
    "plt.plot(range(1, len(errors) + 1), errors, marker='o')\n",
    "plt.xlabel('Epochs')\n",
    "plt.ylabel('Number of updates')\n",
    "plt.title('Misclassification errors')\n",
    "plt.show()\n",
    "\n",
    "# plot decision regions\n",
    "plot_decision_regions(X, y, lines[-1])"
   ]
  },
  {
   "cell_type": "markdown",
   "metadata": {
    "colab_type": "text",
    "id": "cwIhIBHVqXzC"
   },
   "source": [
    "# Adaptive linear neurons (Adaline)\n",
    "Another type of single-layer neural network is the Adaptive Linear Neuron (**Adaline**), published by Bernard Widrow in 1960. The main difference with the Perceptron is that the weights are updated based on a *linear activation function* rather than a unit step function (which is still used as a threshold function to make the final prediction). This linear activation function is the **identity function** of the net input, so that:\n",
    "\n",
    "$$\\phi\\left(w^Tx\\right)=w^Tx$$\n",
    "\n",
    "- **Adaline**: compares the true class labels with the linear activation function's continuous valued ouput to compute the errors.\n",
    "- **Perceptron**: compares the true class labels with the predicted ones to compute the errors.\n",
    "\n",
    "<img src=\"images/Perceptron/adaline.jpg\" style=\"width:450px; display: block; margin-left: auto; margin-right: auto;\"/>\n",
    "\n",
    "The key factor is an **objective function** that is to be optimized. In this case, the objective function is a cost function, defined as the **sum of squared errors (SSE)** between the predicted output and the true label:\n",
    "\n",
    "$$J(w)=\\frac{1}{2}\\sum_{i}{\\left(y^{(i)}-\\phi\\left(z^{(i)}\\right)\\right)^2}$$\n",
    "\n",
    "The main advantage of using a continous linear activation function, in contrast to the unit step function, is that **the cost function becomes differentiable and convex**. We can minimize that cost function using **gradient descent**, updating, at each step, the weights by taking a step in the opposite direction of the gradient $\\nabla J(w)$ of the cost function $J(w)$ computed in $w$:\n",
    "\n",
    "$$w:= w+\\Delta w$$\n",
    "\n",
    "where $\\Delta w$ is defined as the negative gradient multiplied by the hyperparameter $\\eta$ (the learning rate):\n",
    "\n",
    "$$\\Delta w=-\\eta\\nabla J(w)$$"
   ]
  },
  {
   "cell_type": "markdown",
   "metadata": {
    "colab_type": "text",
    "id": "z7lam4JdqXzD"
   },
   "source": [
    "Let's now compute the gradient of the loss function $J(w)$.\n",
    "\n",
    "$$\\begin{split}\n",
    "    \\frac{\\partial J}{\\partial w_j} &= \\frac{\\partial}{\\partial w_j} \\frac{1}{2}\\sum_{i}{\\left(y^{(i)}-\\phi\\left(z^{(i)}\\right) \\right)^2} \\\\\n",
    "    &= \\frac{1}{2} \\sum_{i} 2\\left(y^{(i)}-\\phi\\left(z^{(i)}\\right)\\right) \\frac{\\partial}{\\partial w_j}\\left(y^{(i)}-\\phi\\left(z^{(i)}\\right)\\right) \\\\\n",
    "    &= \\sum_{i} \\left(y^{(i)}-\\phi\\left(z^{(i)}\\right)\\right) \\frac{\\partial}{\\partial w_j}\\left(y^{(i)}-\\mathbf{w}^\\top x^{(i)}\\right) \\\\\n",
    "    &= \\sum_{i} \\left(y^{(i)}-\\phi\\left(z^{(i)}\\right)\\right) \\left(-x_j^{(i)}\\right) \\\\\n",
    "    &= -\\sum_{i} \\left(y^{(i)}-\\phi\\left(z^{(i)}\\right)\\right) x_j^{(i)} \\\\\n",
    "\\end{split}$$\n",
    "\n",
    "leading to:\n",
    "\n",
    "$$\\Delta w_j=-\\eta \\frac{\\partial J}{\\partial w_j}=\\eta \\sum_{i} \\left(y^{(i)}-\\phi \\left(z^{(i)}\\right)\\right)x_j^{(i)}$$\n",
    "\n",
    "The general (batch) **gradient descent algorithm** proceeds as follows:\n",
    "\n",
    "```python\n",
    "Initialize (w_0...w_m) to 0 or to small random values\n",
    "until termination condition do:\n",
    "    Δw = 0\n",
    "    for each (x,y) in the training_set do:\n",
    "        output = phi(w.T * x) # where phi(z) = z\n",
    "        for each w_j do:\n",
    "            Δw_j = Δw_j + eta*(y - output)*x_j\n",
    "    for each w_j do:\n",
    "        w_j = w_j + Δw_j\n",
    "```\n",
    "\n",
    "\n",
    "**Remark:** The weight update is calculated based on all examples in the training dataset (instead of updating the weights incrementally after each training example), which is why this approach is also referred to as **batch gradient descent**.\n",
    "\n",
    "**Remark:** examples of termination conditions are \"reached maximum number of epochs\", \"SSE is below a certain threshold\"...\n",
    "\n",
    "**Remark:** Differently from the Perceptron, Adaline converges ***asymptotically*** even if the data is not linearly separable."
   ]
  },
  {
   "cell_type": "markdown",
   "metadata": {},
   "source": [
    "## Implementing Adaline"
   ]
  },
  {
   "cell_type": "code",
   "execution_count": 26,
   "metadata": {
    "colab": {},
    "colab_type": "code",
    "id": "6QjwALhYqXzF"
   },
   "outputs": [],
   "source": [
    "# Setting the random seed, feel free to change it and see different solutions.\n",
    "np.random.seed(42)\n",
    "\n",
    "def net_input(X, W):\n",
    "    return np.dot(X, W[1:]) + W[0]\n",
    "\n",
    "# This function is here just to explicit the activation function (identity function) \n",
    "def activation(X):\n",
    "    return X\n",
    "\n",
    "def prediction(X, W):\n",
    "    return np.where(activation(net_input(X, W)) >= 0.0, 1, -1)\n",
    "\n",
    "# The function should receive as inputs the data X, the labels y,\n",
    "# the weights W (as an array that includes also the bias term w_0)\n",
    "# update the weights W, according to the adaline algorithm,\n",
    "# and return W.\n",
    "def adalineStep(X, y, W, learn_rate=0.01):\n",
    "    net_input_ = net_input(X, W)\n",
    "    output = activation(net_input_)\n",
    "    errors = (y - output)\n",
    "    W[1:] += learn_rate * X.T.dot(errors)\n",
    "    W[0] += learn_rate * errors.sum()\n",
    "    cost = (errors**2).sum() / 2.0\n",
    "    return W, cost\n",
    "\n",
    "# This function runs the adaline algorithm repeatedly on the dataset,\n",
    "# and returns a few of the boundary lines obtained in the iterations,\n",
    "# for plotting purposes.\n",
    "def trainAdalineAlgorithm(X, y, learn_rate=0.0005, num_epochs=25):\n",
    "    x_min, x_max = min(X.T[0]), max(X.T[0])\n",
    "    y_min, y_max = min(X.T[1]), max(X.T[1])\n",
    "    W = np.random.normal(loc=0.0, scale=0.01, size=1 + X.shape[1])\n",
    "    # These are the solution lines that get plotted below.\n",
    "    boundary_lines = []\n",
    "    costs = []\n",
    "    for i in range(num_epochs):\n",
    "        # In each epoch, we apply the adaline step.\n",
    "        W, cost = adalineStep(X, y, W, learn_rate)\n",
    "        boundary_lines.append(W)\n",
    "        costs.append(cost)\n",
    "    return boundary_lines, costs"
   ]
  },
  {
   "cell_type": "markdown",
   "metadata": {
    "colab_type": "text",
    "id": "9xD_Rrn_qXzJ"
   },
   "source": [
    "### Train Adaline and visualize the result"
   ]
  },
  {
   "cell_type": "code",
   "execution_count": 27,
   "metadata": {
    "colab": {},
    "colab_type": "code",
    "id": "tRLADk9EqXzK",
    "outputId": "b036c5d8-8c84-4d72-c7e2-e24b0fb6428a"
   },
   "outputs": [
    {
     "data": {
      "image/png": "[encoded data removed]",
      "text/plain": [
       "<Figure size 432x288 with 1 Axes>"
      ]
     },
     "metadata": {
      "needs_background": "light"
     },
     "output_type": "display_data"
    },
    {
     "data": {
      "image/png": "[encoded data removed]",
      "text/plain": [
       "<Figure size 432x288 with 1 Axes>"
      ]
     },
     "metadata": {
      "needs_background": "light"
     },
     "output_type": "display_data"
    }
   ],
   "source": [
    "# train the data\n",
    "lines, costs = trainAdalineAlgorithm(X, y)\n",
    "\n",
    "# plot the misclassification error for each epoch\n",
    "plt.plot(range(1, len(costs) + 1), costs, marker='o')\n",
    "plt.xlabel('Epochs')\n",
    "plt.ylabel('Sum-squared-error')\n",
    "plt.title('Misclassification errors')\n",
    "plt.show()\n",
    "# plot decision regions\n",
    "plot_decision_regions(X, y, lines[-1])"
   ]
  },
  {
   "cell_type": "markdown",
   "metadata": {
    "colab_type": "text",
    "id": "KXJ02DovqXzP"
   },
   "source": [
    "**Remark:** choosing a learning rate that is too big (e.g. 0.01), may lead to a continuously increasing error. We can easily visualize it by choosing `learn_rate = 0.01` and plotting the `costs` vector on a semilog plot."
   ]
  },
  {
   "cell_type": "markdown",
   "metadata": {
    "colab_type": "text",
    "id": "qgrcN_0VqXzP"
   },
   "source": [
    "# Feature scaling\n",
    "Many optimization algorithms benefit from feature scaling methods. Gradient descent is one of them, and we can improve its performance by using ***standardization***, giving our data the properties of a standard normal distribution: *zero-mean* and *unit variance*. Doing that will allow the optimizer to go through fewer steps to find a good solution.\n",
    "\n",
    "To **standardize the *j*-th feature**, we can subract the sample mean $\\mu_j$ from every training example and divide it by its standard deviation $\\sigma_j$:\n",
    "\n",
    "$$x_j' = \\frac{x_j-\\mu_j}{\\sigma_j}$$\n",
    "\n",
    "where $x_j$ is a vector containing the values of the *j*-th feature for all the $n$ traning examples"
   ]
  },
  {
   "cell_type": "code",
   "execution_count": 28,
   "metadata": {
    "colab": {},
    "colab_type": "code",
    "id": "l8CQHixJqXzR",
    "outputId": "0aa6b5da-3a68-4fdd-891f-d1e5d2dbdfee"
   },
   "outputs": [
    {
     "data": {
      "image/png": "[encoded data removed]",
      "text/plain": [
       "<Figure size 432x288 with 1 Axes>"
      ]
     },
     "metadata": {
      "needs_background": "light"
     },
     "output_type": "display_data"
    },
    {
     "data": {
      "image/png": "[encoded data removed]",
      "text/plain": [
       "<Figure size 432x288 with 1 Axes>"
      ]
     },
     "metadata": {
      "needs_background": "light"
     },
     "output_type": "display_data"
    }
   ],
   "source": [
    "# standardize the data\n",
    "X_std = np.copy(X)\n",
    "X_std[:,0] = (X[:,0] - X[:,0].mean()) / X[:,0].std()\n",
    "X_std[:,1] = (X[:,1] - X[:,1].mean()) / X[:,1].std()\n",
    "\n",
    "# train the data\n",
    "lines, costs = trainAdalineAlgorithm(X_std, y, learn_rate=0.01, num_epochs=15)\n",
    "\n",
    "# plot the misclassification error for each epoch\n",
    "plt.plot(range(1, len(costs) + 1), costs, marker='o')\n",
    "plt.xlabel('Epochs')\n",
    "plt.ylabel('Sum-squared-error')\n",
    "plt.title('Misclassification errors')\n",
    "plt.show()\n",
    "# plot decision regions\n",
    "plot_decision_regions(X_std, y, lines[-1])"
   ]
  },
  {
   "cell_type": "markdown",
   "metadata": {},
   "source": [
    "Note how faster the SSE decreased compared to the unscaled case: the error dropped to 10 at the fifth iteration, while in the unscaled case, it required 21 iterations to reach that value of the SSE."
   ]
  },
  {
   "cell_type": "markdown",
   "metadata": {
    "colab_type": "text",
    "id": "1GHn2pCQqXzU"
   },
   "source": [
    "# Large-scale ML and stochastic gradient descent\n",
    "\n",
    "Suppose that we have a very large dataset, containing millions of entries. Batch gradient descent can be computationally high costly since we need to reevaluate the whole training set each time we take a step towards the global minimum.\n",
    "At this point, an alternative to the batch gradient descent comes to our help: the **stochastic gradiend descent (SGD)** also called *incremental gradient descent*.\n",
    "\n",
    "Instead of updating the weights based on the sum of the accumulated errors over all the training examples, weights are incrementally updated for each training example:\n",
    "\n",
    "$$\\Delta w = \\eta\\left(y^{(i)}-\\phi(z^{(i)})\\right)x^{(i)}$$\n",
    "\n",
    "The algorithm is the following:\n",
    "\n",
    "```python\n",
    "Initialize (w_0...w_m) to 0 or to small random values\n",
    "until termination condition do:\n",
    "    for each (x,y) in the training_set do:\n",
    "        output = phi(w.T * x) # where phi(z) = z\n",
    "        Δw = eta*(y - output)*x\n",
    "        w = w + Δw\n",
    "```\n",
    "\n",
    "Note that SGD doesn't reach the global minimum but an area very close to it. One advantage of SGD is that it can be used for **online learning**, where the model is trained and updated as new training data comes.\n",
    "\n",
    "**Remark:** More satisfying results can be obtained via SGD by presenting training data in random order; also, we want to shuffle the training set for every epoch to prevent cycles.\n",
    "\n",
    "The main differences with batch gradient descent are:\n",
    "- in SGD weights are updated more frequently\n",
    "- SGD can speed up convergence and it is less sensitive to local minima in $J$ (that is not the case for ADALINE, since in that case $J$ is convex)\n",
    "- if $\\eta$ is small enough then SGD can approximate batch gradient descent arbitrarily closely"
   ]
  },
  {
   "cell_type": "markdown",
   "metadata": {
    "colab_type": "text",
    "id": "1GHn2pCQqXzU"
   },
   "source": [
    "### Dynamic learning rate\n",
    "Instead of using a fixed, chosen a priori, learning rate, $\\eta$ is often replaced by a learning rate that decreases over time, for example:\n",
    "\n",
    "$$\\eta = \\frac{c_1}{[\\text{number of iterations}] + c_2}$$\n",
    "\n",
    "where $c_1$ and $c_2$ are constants."
   ]
  },
  {
   "cell_type": "code",
   "execution_count": 29,
   "metadata": {
    "colab": {},
    "colab_type": "code",
    "id": "CDrTTwZoqXzV"
   },
   "outputs": [],
   "source": [
    "class AdalineSGD(object):\n",
    "    \"\"\"ADAptive LInear NEuron classifier.\n",
    "\n",
    "    Parameters\n",
    "    ------------\n",
    "    eta : float\n",
    "      Learning rate (between 0.0 and 1.0)\n",
    "    n_iter : int\n",
    "      Passes over the training dataset.\n",
    "    shuffle : bool (default: True)\n",
    "      Shuffles training data every epoch if True to prevent cycles.\n",
    "    random_state : int\n",
    "      Random number generator seed for random weight\n",
    "      initialization.\n",
    "\n",
    "\n",
    "    Attributes\n",
    "    -----------\n",
    "    w_ : 1d-array\n",
    "      Weights after fitting.\n",
    "    cost_ : list\n",
    "      Sum-of-squares cost function value averaged over all\n",
    "      training examples in each epoch.\n",
    "        \n",
    "    \"\"\"\n",
    "    def __init__(self, eta=0.01, n_iter=10, shuffle=True, random_state=None):\n",
    "        self.eta = eta\n",
    "        self.n_iter = n_iter\n",
    "        self.w_initialized = False\n",
    "        self.shuffle = shuffle\n",
    "        self.random_state = random_state\n",
    "        \n",
    "    def fit(self, X, y):\n",
    "        \"\"\" Fit training data.\n",
    "\n",
    "        Parameters\n",
    "        ----------\n",
    "        X : {array-like}, shape = [n_examples, n_features]\n",
    "          Training vectors, where n_examples is the number of examples and\n",
    "          n_features is the number of features.\n",
    "        y : array-like, shape = [n_examples]\n",
    "          Target values.\n",
    "\n",
    "        Returns\n",
    "        -------\n",
    "        self : object\n",
    "\n",
    "        \"\"\"\n",
    "        self._initialize_weights(X.shape[1])\n",
    "        self.cost_ = []\n",
    "        for i in range(self.n_iter):\n",
    "            if self.shuffle:\n",
    "                X, y = self._shuffle(X, y)\n",
    "            cost = []\n",
    "            for xi, target in zip(X, y):\n",
    "                cost.append(self._update_weights(xi, target))\n",
    "            avg_cost = sum(cost) / len(y)\n",
    "            self.cost_.append(avg_cost)\n",
    "        return self\n",
    "\n",
    "    def partial_fit(self, X, y):\n",
    "        \"\"\"Fit training data without reinitializing the weights\"\"\"\n",
    "        if not self.w_initialized:\n",
    "            self._initialize_weights(X.shape[1])\n",
    "        if y.ravel().shape[0] > 1: # if it is a batch\n",
    "            for xi, target in zip(X, y):\n",
    "                self._update_weights(xi, target)\n",
    "        else:\n",
    "            self._update_weights(X, y)\n",
    "        return self\n",
    "\n",
    "    def _shuffle(self, X, y):\n",
    "        \"\"\"Shuffle training data\"\"\"\n",
    "        r = self.rgen.permutation(len(y))\n",
    "        return X[r], y[r]\n",
    "    \n",
    "    def _initialize_weights(self, m):\n",
    "        \"\"\"Initialize weights to small random numbers\"\"\"\n",
    "        self.rgen = np.random.RandomState(self.random_state)\n",
    "        self.w_ = self.rgen.normal(loc=0.0, scale=0.01, size=1 + m)\n",
    "        self.w_initialized = True\n",
    "        \n",
    "    def _update_weights(self, xi, target):\n",
    "        \"\"\"Apply Adaline learning rule to update the weights using only one training example xi\"\"\"\n",
    "        output = self.activation(self.net_input(xi))\n",
    "        error = (target - output)\n",
    "        self.w_[1:] += self.eta * xi.dot(error)\n",
    "        self.w_[0] += self.eta * error\n",
    "        cost = 0.5 * error**2\n",
    "        return cost\n",
    "    \n",
    "    def net_input(self, X):\n",
    "        \"\"\"Calculate net input\"\"\"\n",
    "        return np.dot(X, self.w_[1:]) + self.w_[0]\n",
    "\n",
    "    def activation(self, X):\n",
    "        \"\"\"Compute linear activation\"\"\"\n",
    "        return X\n",
    "\n",
    "    def predict(self, X):\n",
    "        \"\"\"Return class label after unit step\"\"\"\n",
    "        return np.where(self.activation(self.net_input(X)) >= 0.0, 1, -1)"
   ]
  },
  {
   "cell_type": "code",
   "execution_count": 30,
   "metadata": {
    "colab": {},
    "colab_type": "code",
    "id": "BZNO1bROqXzZ",
    "outputId": "6d729c67-1ee2-4d90-b39e-3d821ca4c363"
   },
   "outputs": [
    {
     "data": {
      "image/png": "[encoded data removed]",
      "text/plain": [
       "<Figure size 432x288 with 1 Axes>"
      ]
     },
     "metadata": {
      "needs_background": "light"
     },
     "output_type": "display_data"
    },
    {
     "data": {
      "image/png": "[encoded data removed]",
      "text/plain": [
       "<Figure size 432x288 with 1 Axes>"
      ]
     },
     "metadata": {
      "needs_background": "light"
     },
     "output_type": "display_data"
    }
   ],
   "source": [
    "from matplotlib.colors import ListedColormap\n",
    "\n",
    "def plot_decision_regions(X, y, classifier, resolution=0.02):\n",
    "\n",
    "    # setup marker generator and color map\n",
    "    markers = ('s', 'x', 'o', '^', 'v')\n",
    "    colors = ('red', 'blue', 'lightgreen', 'gray', 'cyan')\n",
    "    cmap = ListedColormap(colors[:len(np.unique(y))])\n",
    "\n",
    "    # plot the decision surface\n",
    "    x1_min, x1_max = X[:, 0].min() - 1, X[:, 0].max() + 1\n",
    "    x2_min, x2_max = X[:, 1].min() - 1, X[:, 1].max() + 1\n",
    "    xx1, xx2 = np.meshgrid(np.arange(x1_min, x1_max, resolution),\n",
    "                           np.arange(x2_min, x2_max, resolution))\n",
    "    Z = classifier.predict(np.array([xx1.ravel(), xx2.ravel()]).T) # classify each point of the meshgrid\n",
    "    Z = Z.reshape(xx1.shape)\n",
    "    plt.contourf(xx1, xx2, Z, alpha=0.3, cmap=cmap)\n",
    "    plt.xlim(xx1.min(), xx1.max())\n",
    "    plt.ylim(xx2.min(), xx2.max())\n",
    "\n",
    "    # plot class examples\n",
    "    for idx, cl in enumerate(np.unique(y)):\n",
    "        plt.scatter(x=X[y == cl, 0], \n",
    "                    y=X[y == cl, 1],\n",
    "                    alpha=0.8, \n",
    "                    c=colors[idx],\n",
    "                    marker=markers[idx], \n",
    "                    label=cl, \n",
    "                    edgecolor='black')\n",
    "\n",
    "# Train Adaline with stochastic gradient descent\n",
    "ada_sgd = AdalineSGD(n_iter=15, eta=0.01, random_state=1)\n",
    "ada_sgd.fit(X_std, y)\n",
    "\n",
    "plot_decision_regions(X_std, y, classifier=ada_sgd)\n",
    "plt.title('Adaline - Stochastic Gradient Descent')\n",
    "plt.xlabel('sepal length [standardized]')\n",
    "plt.ylabel('petal length [standardized]')\n",
    "plt.legend(loc='upper left')\n",
    "\n",
    "plt.tight_layout()\n",
    "plt.show()\n",
    "\n",
    "plt.plot(range(1, len(ada_sgd.cost_) + 1), ada_sgd.cost_, marker='o')\n",
    "plt.xlabel('Epochs')\n",
    "plt.ylabel('Average Cost')\n",
    "\n",
    "plt.tight_layout()\n",
    "plt.show()"
   ]
  },
  {
   "cell_type": "markdown",
   "metadata": {
    "colab_type": "text",
    "id": "PeVqZeSqqXze"
   },
   "source": [
    "In an online learning scenario, we could call the `partial_fit` method on individual training examples, for instance `ada_sgd.partial_fit(X_std[0, :], y[0])`"
   ]
  },
  {
   "cell_type": "markdown",
   "metadata": {
    "colab_type": "text",
    "id": "1GHn2pCQqXzU"
   },
   "source": [
    "### Mini-batch gradient descent\n",
    "Mini-batch learning can be thought as applying batch gradient descent to smaller subsets of the training data. The convergence is reached faster than with batch gradient descent because of the frequent weight updates. Furthermore, mini-batch learning allows us to replace the `for` loop over the training examples in SGD with vectorized operations (for example, implementing a weighted sum via a dot product), which can improve the computational efficiency."
   ]
  }
 ],
 "metadata": {
  "colab": {
   "name": "6 - Introduction to Neural Networks and Deep Learning.ipynb",
   "provenance": []
  },
  "kernelspec": {
   "display_name": "Python 3",
   "language": "python",
   "name": "python3"
  },
  "language_info": {
   "codemirror_mode": {
    "name": "ipython",
    "version": 3
   },
   "file_extension": ".py",
   "mimetype": "text/x-python",
   "name": "python",
   "nbconvert_exporter": "python",
   "pygments_lexer": "ipython3",
   "version": "3.8.6"
  }
 },
 "nbformat": 4,
 "nbformat_minor": 4
}
