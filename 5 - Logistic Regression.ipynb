{
 "cells": [
  {
   "cell_type": "markdown",
   "metadata": {},
   "source": [
    "# Logistic Regression\n",
    "\n",
    "### Contents\n",
    " \n",
    "1. [**Introduction**](#Introduction)  \n",
    "     1.1. The sigmoid function  \n",
    "     1.2. Comparison with Adaline  \n",
    "2. [**Estimation of the parameters**](#Estimation-of-the-parameters)  \n",
    "    2.1. Logistic cost function  \n",
    "    2.2. Gradient ascent/descent  \n",
    "3. [**Multiple Logistic Regression**](#Multiple-Logistic-Regression)  "
   ]
  },
  {
   "cell_type": "markdown",
   "metadata": {},
   "source": [
    "# Introduction\n",
    "\n",
    "Consider a binary classification problem (meaning that the output variable $Y$ corresponding to an input vector $X$ can take only two possible values, for instance $0$ or $1$, which represents two possible classes/categories). Rather than modeling the response variable $Y$ directly, logistic regression models the **probability** that $Y$ belongs to a particular category. Therefore, let's indicate with $p(X)=\\text{Pr}(Y=1|X)$ the probability for the observation $X$ to belong to category $1$. Therefore, we can write:\n",
    "\n",
    "$$\\begin{cases} \n",
    "\\text{Pr}(Y=1|X) = p(X) \\\\\n",
    "\\text{Pr}(Y=0|X) = 1 - p(X)\n",
    "\\end{cases}$$\n",
    "\n",
    "which is summarizable into a single expression:\n",
    "\n",
    "$$\\text{Pr}(Y|X) = p(X)^Y (1-p(X))^{1-Y}. $$\n",
    "\n",
    "**Definition (Odds):** the odds in favor of an event are defined as \n",
    "\n",
    "$$ODDS = \\frac{p(X)}{1-p(X)}$$ \n",
    "\n",
    "and that quantity can take on any value between $0$ and $\\infty$. The odds of some event _reflect the likelihood that the event will take place_.\n",
    "\n",
    "If we choose to use a *linear regression model* of the form $p(X;\\beta_0, \\mathbf{\\beta})=\\beta_0 + \\mathbf{\\beta}^T X$ to represent the probabilities (for the ease of notation, we'll omit the terms $\\beta_0$ and $\\mathbf{\\beta}$ in $p(X;\\beta_0,\\mathbf{\\beta})$), then it may happen that, for some value of $X$, we may predict $p(X)<0$ or $p(X)>1$. To avoid this problem, we must model $p(X)$ with a function that produces outputs between 0 and 1, such as the **logistic sigmoid function**:\n",
    "\n",
    "$$\\begin{split}\n",
    "\\text{Pr}(Y=1|X)=p(X)&=\\frac{e^{\\beta_0+\\beta^T X}}{1+e^{\\beta_0+\\beta^T X}} \\\\\n",
    "&=\\frac{1}{1+e^{-(\\beta_0+\\beta^T X)}}\n",
    "\\end{split}$$"
   ]
  },
  {
   "cell_type": "markdown",
   "metadata": {},
   "source": [
    "## The sigmoid function\n",
    "\n",
    "Let's refer to the sigmoid function using the compact notation:\n",
    "\n",
    "$$\\sigma(z)=\\frac{1}{1+e^{-z}}$$\n",
    "\n",
    "where $z$ is the _net input_ $z=\\beta_0 + \\beta^T X=\\beta_0 + \\beta_1x_1 + ... + \\beta_p x_p$"
   ]
  },
  {
   "cell_type": "code",
   "execution_count": 1,
   "metadata": {},
   "outputs": [
    {
     "data": {
      "image/png": "[encoded data removed]",
      "text/plain": [
       "<Figure size 432x288 with 1 Axes>"
      ]
     },
     "metadata": {
      "needs_background": "light"
     },
     "output_type": "display_data"
    }
   ],
   "source": [
    "import numpy as np\n",
    "import matplotlib.pyplot as plt\n",
    "%matplotlib inline\n",
    "\n",
    "def sigmoid(z):\n",
    "    return 1.0 / (1.0 + np.exp(-z))\n",
    "\n",
    "z = np.arange(-7, 7, 0.1)\n",
    "sigma_z = sigmoid(z)\n",
    "plt.plot(z, sigma_z)\n",
    "plt.axvline(x=0.0, color='k', alpha=0.7)\n",
    "plt.ylim(-0.1, 1.1)\n",
    "plt.yticks([0.0, 0.5, 1.0])\n",
    "plt.title('Logistic sigmoid function')\n",
    "plt.xlabel('z')\n",
    "plt.ylabel(r'$\\sigma (z)$')\n",
    "ax = plt.gca()\n",
    "ax.yaxis.grid(True)\n",
    "plt.tight_layout()\n",
    "plt.show()"
   ]
  },
  {
   "cell_type": "markdown",
   "metadata": {},
   "source": [
    "## Comparison with Adaline\n",
    "\n",
    "In Adaline (Chapter: Introduction to neural networks and deep learning), we use the identity function, $\\sigma(z)=z$, as the activation function. In logistic regression, this activation function simply becomes the sigmoid function. The output of the sigmoid function is then interpreted as the probability of a particular example belonging to class 1, $p(X) = \\text{Pr}(Y=1 | X)$, given its features $X$, parameterized by the weights $\\beta$.\n",
    "\n",
    "\n",
    "\n",
    "The predicted probability for the *i*-th observation can be then converted into a binary outcome via a threshold function:\n",
    "\n",
    "$$\\hat{y}_i=\\begin{cases} 1 & \\text{if } p (x_i) \\ge \\text{threshold} \\\\ 0 & \\text{otherwise} \\end{cases}$$\n",
    "\n",
    "Classification threshold shouldn't necessarily be 0.5, because thresholds are problem-dependent, then they must be tuned (see the notebook on Model Evaluation)."
   ]
  },
  {
   "cell_type": "markdown",
   "metadata": {},
   "source": [
    "# Estimation of the parameters\n",
    "\n",
    "With the logistic function, the odds become:\n",
    "\n",
    "$$\\frac{p(X)}{1-p(X)}=e^{\\beta_0+\\beta^T X}$$\n",
    "\n",
    "By taking the natural logarithm of both sides we arrive at the **log-odds** or **logit**:\n",
    "\n",
    "$$\\text{logit}(p)=\\ln{\\left(\\frac{p(X)}{1-p(X)}\\right)}=\\beta_0+\\beta^T X$$\n",
    "\n",
    "Note that the logistic regression model has a logit that is **linear in $X$**. Using this function will allow us to model the probabilities of the classes via linear functions in $X$, while at the same time ensuring that they sum up to one and remain in $[0,1]$.\n",
    "\n",
    "Our goal is to estimate the parameters $\\theta = \\{\\beta_0, ..., \\beta_p\\}$, and that can be done by **maximizing a likelihood** function (that is preferrable over *non linear least squares* because of its statistical properties). Assuming that all the observations are **independently Bernoulli distributed** (so we can write their joint probability density function as the product of the marginal distributions), the *likelihood function* can be defined in this way:\n",
    "\n",
    "$$L(\\theta; X)=\\prod_{i:y_i=1}{p(x_i)}\\prod_{j:y_j=0}{\\left(1-p(x_j)\\right)}=\\prod_{i}{p(x_i)^{y_i}\\left(1-p(x_i)\\right)^{(1-y_i)}}$$\n",
    "\n",
    "In practice, it is easier to maximize the natural logarithm of this equation (the maximum will change, but the maximum point won't change, since the logarithm is a strictly monotonically increasing function), which is called the **log-likelihood function:**\n",
    "\n",
    "$$\\begin{split}\n",
    "l(\\theta; X)=\\ln{L(\\theta; X)} &= \\sum_{i=1}^{N}{\\left[y_i\\ln{p(x_i; \\theta)} + (1-y_i)\\ln{\\left(1-p(x_i; \\theta)\\right)}\\right]} \\\\\n",
    "&= \\sum_{i=1}^{N}{\\left[y_i \\theta^T x_i - \\ln\\left(1+e^{\\theta^T x_i}\\right)\\right]}\n",
    "\\end{split}.$$\n",
    "\n",
    "In the last equation we assumed that $x_i$ included the constant term $1$ to accomodate its intercept (since $\\theta$ includes also $\\beta_0$."
   ]
  },
  {
   "cell_type": "markdown",
   "metadata": {},
   "source": [
    "### Logistic cost function\n",
    "\n",
    "If we prefer to think about minimization, we can alternatively consider the **logistic cost function**\n",
    "\n",
    "$$\n",
    "\\begin{split}\n",
    "J(\\theta; X)=-\\ln{L(\\theta; X)} &=\\sum_{i}{\\left[-y_i\\ln{p(x_i;\\theta)} - (1-y_i)\\ln{\\left(1-p(x_i;\\theta)\\right)}\\right]} \\\\\n",
    "&= - \\sum_{i=1}^{N}{\\left[y_i \\theta^T x_i - \\ln\\left(1+e^{\\theta^T x_i}\\right)\\right]}\n",
    "\\end{split}.$$\n",
    "\n",
    "and proceed to **minimize** it through gradiend descent, since it is a convex function.\n",
    "\n",
    "Note that:\n",
    "- For a training example $X$ whose true label is $Y=1$, the contribution to the cost function will be closer to zero if the hypothesis function outputs a value closer to 1 (i.e. a high value of probability for $X$ to have label 1), and it will increase to infinity if the hypothesis function outputs a value closer to 0 (i.e. it misclassify that training point and so it penalizes the learning algorithm by a very large cost).\n",
    "- For a training example $X$ whose true label is $Y=0$, the contribution to the cost function will be closer to zero if the hypothesis function outputs a value closer to 0 (i.e. a low value of probability for $X$ to have label 1), and it will increase to infinity if the hypothesis function outputs a value closer to 1 (i.e. it misclassify that training point and so it penalizes the learning algorithm by a very large cost).\n",
    "\n",
    "Let's visualize the cost of classifying a particular training sample for different values of the hypothesis $p(X)$"
   ]
  },
  {
   "cell_type": "code",
   "execution_count": 2,
   "metadata": {},
   "outputs": [
    {
     "data": {
      "image/png": "[encoded data removed]",
      "text/plain": [
       "<Figure size 432x288 with 1 Axes>"
      ]
     },
     "metadata": {
      "needs_background": "light"
     },
     "output_type": "display_data"
    }
   ],
   "source": [
    "def cost_1(z):\n",
    "    return -np.log(sigmoid(z))\n",
    "\n",
    "def cost_0(z):\n",
    "    return -np.log(1 - sigmoid(z))\n",
    "\n",
    "z = np.arange(-10, 10, 0.1)\n",
    "sigma_z = sigmoid(z)\n",
    "c1 = [cost_1(x) for x in z]\n",
    "plt.plot(sigma_z, c1, label=r'$J(\\theta)$ if y=1')\n",
    "c0 = [cost_0(x) for x in z]\n",
    "plt.plot(sigma_z, c0, linestyle='--', label=r'$J(\\theta)$ if y=0')\n",
    "plt.ylim(0.0, 5.1)\n",
    "plt.xlim([0.0, 1.0])\n",
    "plt.xlabel(r'$\\sigma(z)$')\n",
    "plt.ylabel(r'$J(\\theta)$')\n",
    "plt.legend(loc='best')\n",
    "plt.tight_layout()\n",
    "plt.show()"
   ]
  },
  {
   "cell_type": "markdown",
   "metadata": {},
   "source": [
    "## Gradient ascent/descent\n",
    "\n",
    "The simplest implementation of gradient descent is:\n",
    "```\n",
    "Repeat until termination condition {\n",
    "```\n",
    "\n",
    "$$\\beta_j := \\beta_j - \\eta \\frac{\\partial}{\\partial \\beta_j}{J(\\theta)}$$\n",
    "    \n",
    "```\n",
    "}\n",
    "```\n",
    "\n",
    "Let's now do some mathematics and derive the gradient descent formula. First of all calculate the partial derivative of the logistic function (it will come in handy shortly):\n",
    "\n",
    "$$\\frac{\\partial}{\\partial z}{\\sigma(z)} \n",
    "= \\frac{\\partial}{\\partial z}{\\frac{1}{1+e^{-z}}} \n",
    "= \\frac{e^{-z}}{(1+e^{-z})^2} \n",
    "= \\frac{1}{1+e^{-z}} \\left( 1- \\frac{1}{1+e^{-z}} \\right) \n",
    "= \\sigma(z)\\left(1-\\sigma(z)\\right)$$\n",
    "\n",
    "Now, consider the log-likelihood function, and calculate its partial derivative with respect to the $j$-th parameter $\\beta_j$ (since the derivative of a summation is equal to the sum of the derivatives of its terms, we will first compute the derivative of a generic term, and then plug it into the summation):\n",
    "\n",
    "$$ \\begin{align}\n",
    "\\frac{\\partial }{\\partial \\beta_j}{l(\\boldsymbol{\\theta})} \n",
    "&= \\frac{\\partial l}{\\partial \\sigma} \\frac{\\partial \\sigma}{\\partial z} \\frac{\\partial z}{\\partial \\beta_j} \\\\\n",
    "&= \\left( y \\frac{1}{\\sigma(z)} - (1-y) \\frac{1}{1-\\sigma(z)} \\right) \\frac{\\partial}{\\partial \\beta_j}{\\sigma(z)} \\\\\n",
    "&= \\left( y \\frac{1}{\\sigma(z)} - (1-y) \\frac{1}{1-\\sigma(z)} \\right) \\sigma(z)\\left(1-\\sigma(z)\\right) \\frac{\\partial}{\\partial \\beta_j}{z} \\\\\n",
    "&= \\left( y\\left(1-\\sigma(z)\\right) - (1-y)\\sigma(z) \\right) x_j \\\\\n",
    "&= \\left( y - \\sigma(z) \\right)x_j\n",
    "\\end{align}\n",
    "$$\n",
    "\n",
    "Therefore, to maximize the log-likelihood function, for each parameter, we perform the update in this way:\n",
    "\n",
    "$$\\beta_j := \\beta_j + \\eta \\sum_{i=1}^{N}{\\left( y^{(i)} - \\sigma(z^{(i)}) \\right)x_j}$$\n",
    "\n",
    "with $\\eta \\in \\mathbb{R}_+$ small enough (it is a parameter determining the size of the step in the direction of maximum ascent), and $N$ being the number of available measurements.\n",
    "\n",
    "Since maximizing the log-likelihood function is equal to minimize the cost function definied earlier, we can return to the minimization problem and descent the gradient updating the parameters in this way:\n",
    "\n",
    "$$\\beta_j := \\beta_j - \\eta \\sum_{i=1}^{N}{\\left( y^{(i)} - \\sigma(z^{(i)}) \\right)x_j}$$\n",
    "\n",
    "In a more compact form:\n",
    "\n",
    "$$\\boldsymbol{\\beta} := \\boldsymbol{\\beta} + \\Delta \\boldsymbol{\\theta}$$\n",
    "\n",
    "where $\\Delta \\boldsymbol{\\theta} = -\\eta \\nabla J(\\boldsymbol{\\theta})$"
   ]
  },
  {
   "cell_type": "markdown",
   "metadata": {},
   "source": [
    "### Variants\n",
    "\n",
    "In practice, [variants of the gradient descent algorithm](https://ruder.io/optimizing-gradient-descent/) are typically used, such as:\n",
    "- Conjugate gradient (1952)\n",
    "- Biconjugate gradient stabilized (BICGSTAB) (1992)\n",
    "- BFGS\n",
    "- L-BFGS (1995)\n",
    "- Adam (2015)\n",
    "- ..."
   ]
  },
  {
   "cell_type": "code",
   "execution_count": 3,
   "metadata": {},
   "outputs": [],
   "source": [
    "class LogisticRegressionGD(object):\n",
    "    \"\"\"Logistic Regression Classifier with gradient descent from the book \"Python Machine Learning\"\n",
    "    \n",
    "    Parameters\n",
    "    ------------\n",
    "    eta : float\n",
    "        Learning rate (between 0.0 and 1.0)\n",
    "    n_iter : int\n",
    "        Passes over the training set\n",
    "    random_state : int\n",
    "        Random number generator seed for random weight\n",
    "        initialization.\n",
    "    \n",
    "    Attributes\n",
    "    ------------\n",
    "    w_ : 1d-array\n",
    "        Weights after fitting\n",
    "    cost_ : list\n",
    "        Logistic cost function value in each epoch\n",
    "        \n",
    "    \"\"\"\n",
    "    def __init__(self, eta=0.05, n_iter=100, random_state=1):\n",
    "        self.eta = eta\n",
    "        self.n_iter = n_iter\n",
    "        self.random_state = random_state\n",
    "        \n",
    "    def fit(self, X, y):\n",
    "        \"\"\" Fit training data.\n",
    "\n",
    "        Parameters\n",
    "        ----------\n",
    "        X : {array-like}, shape = [n_examples, n_features]\n",
    "          Training vectors, where n_examples is the number of examples and\n",
    "          n_features is the number of features.\n",
    "        y : array-like, shape = [n_examples]\n",
    "          Target values.\n",
    "\n",
    "        Returns\n",
    "        -------\n",
    "        self : object\n",
    "\n",
    "        \"\"\"\n",
    "        rgen = np.random.RandomState(self.random_state)\n",
    "        self.w_ = rgen.normal(loc=0.0, scale=0.01, size=1 + X.shape[1])\n",
    "        self.cost_ = []\n",
    "        \n",
    "        for i in range(self.n_iter):\n",
    "            net_input = self.net_input(X)\n",
    "            output = self.activation(net_input)\n",
    "            errors = (y - output)\n",
    "            self.w_[1:] += self.eta * X.T.dot(errors)\n",
    "            self.w_[0] += self.eta * errors.sum()\n",
    "            \n",
    "            # compute the logistic `cost`\n",
    "            cost = -y.dot(np.log(output)) - ((1 - y).dot(np.log(1 - output)))\n",
    "            self.cost_.append(cost)\n",
    "        return self\n",
    "\n",
    "    def net_input(self, X):\n",
    "        \"\"\"Calculate net input\"\"\"\n",
    "        return np.dot(X, self.w_[1:]) + self.w_[0]\n",
    "    \n",
    "    def activation(self, z):\n",
    "        \"\"\"Compute logistic sigmoid activation function\"\"\"\n",
    "        return 1. / (1. + np.exp(-np.clip(z, -250, 250)))\n",
    "\n",
    "    def predict(self, X):\n",
    "        \"\"\"Return class label after unit step\"\"\"\n",
    "        return np.where(self.activation(self.net_input(X)) >= 0.5, 1, 0)"
   ]
  },
  {
   "cell_type": "code",
   "execution_count": 4,
   "metadata": {},
   "outputs": [
    {
     "data": {
      "image/png": "[encoded data removed]",
      "text/plain": [
       "<Figure size 432x288 with 1 Axes>"
      ]
     },
     "metadata": {
      "needs_background": "light"
     },
     "output_type": "display_data"
    }
   ],
   "source": [
    "from sklearn import datasets\n",
    "from sklearn.model_selection import train_test_split\n",
    "from utils import plot_decision_regions\n",
    "\n",
    "iris = datasets.load_iris()\n",
    "X = iris.data[:, [2, 3]]\n",
    "y = iris.target\n",
    "\n",
    "X_train, X_test, y_train, y_test = train_test_split(X, y, test_size=0.3, random_state=1, stratify=y)\n",
    "\n",
    "X_train_01_subset = X_train[(y_train == 0) | (y_train == 1)]\n",
    "y_train_01_subset = y_train[(y_train == 0) | (y_train == 1)]\n",
    "\n",
    "lrgd = LogisticRegressionGD(eta=0.05, n_iter=1000, random_state=1)\n",
    "lrgd.fit(X_train_01_subset, y_train_01_subset)\n",
    "\n",
    "plot_decision_regions(X_train_01_subset, y_train_01_subset, classifier=lrgd, resolution=0.01)\n",
    "plt.legend(loc='upper left')\n",
    "plt.tight_layout()\n",
    "plt.show()"
   ]
  },
  {
   "cell_type": "markdown",
   "metadata": {},
   "source": [
    "# Multiple Logistic Regression\n",
    "\n",
    "When the target variable $Y$, instead of being binary, can take up to $K$ values, we talk about multiple logistic regression. In that case, the model is specified by $K-1$ log-odds, where we compare the probability of $Y$ being equal to a particular value, with respect to a reference value, for instance, the $K$-th one (but we could have chosen any of the $K$ labels):\n",
    "\n",
    "$$\\begin{split}\n",
    "\\log \\frac{\\mathrm{Pr}(Y=1 | X=x)}{\\mathrm{Pr}(Y=K | X=x)} &= \\beta_{10} + \\beta_1^T x \\\\\n",
    "\\vdots \\\\\n",
    "\\log \\frac{\\mathrm{Pr}(Y=K-1 | X=x)}{\\mathrm{Pr}(Y=K | X=x)} &= \\beta_{(K-1)0} + \\beta_{K-1}^T x \n",
    "\\end{split}$$\n",
    "\n",
    "where\n",
    "\n",
    "$$\\begin{split}\\mathrm{Pr}(Y=k | X=x) &= \\frac{\\exp(\\beta_{k0} + \\beta_k^Tx)}{1 + \\sum_{l=1}^{K-1}{\\exp(\\beta_{l0} + \\beta_l^Tx)}}, \\; 1,...,K-1 \\\\\n",
    "\\mathrm{Pr}(Y=K | X=x) &= \\frac{1}{1 + \\sum_{l=1}^{K-1}{\\exp(\\beta_{l0} + \\beta_l^Tx)}}.\n",
    "\\end{split}$$ \n",
    "\n",
    "Note that the $K$ probabilities sum up to one.\n",
    "\n",
    "The maximization of the likelihood function in the multiclass case ($K\\ge 3$) can be done through the Newton-Raphson algorithm (see Section 4.4.1 of \"The Elements of Statistical Learning - Friedman, Tibshirani, Hastie\")."
   ]
  },
  {
   "cell_type": "markdown",
   "metadata": {},
   "source": [
    "## Example\n",
    "\n",
    "```\n",
    "⚠️ Work in progress, the example has not been completed yet ⚠️\n",
    "\n",
    "✍🏻 TO-DO: show the confounding effect --> prediction using only the student status tells a different story than when using also the other regressors.\n",
    "```\n",
    "\n",
    "Consider the `Default` dataset, in which we are interested in predicting whether an individual will default on his or her credit card payment, on the basis of annual income (`income`) and monthly credit card balance (`balance`)."
   ]
  },
  {
   "cell_type": "code",
   "execution_count": 109,
   "metadata": {},
   "outputs": [
    {
     "name": "stdout",
     "output_type": "stream",
     "text": [
      "Default dataset has 10000 entries\n",
      "The number of Default == 'Yes' is 333\n",
      "The number of Default == 'No' is 9667\n"
     ]
    },
    {
     "data": {
      "text/html": [
       "<div>\n",
       "<style scoped>\n",
       "    .dataframe tbody tr th:only-of-type {\n",
       "        vertical-align: middle;\n",
       "    }\n",
       "\n",
       "    .dataframe tbody tr th {\n",
       "        vertical-align: top;\n",
       "    }\n",
       "\n",
       "    .dataframe thead th {\n",
       "        text-align: right;\n",
       "    }\n",
       "</style>\n",
       "<table border=\"1\" class=\"dataframe\">\n",
       "  <thead>\n",
       "    <tr style=\"text-align: right;\">\n",
       "      <th></th>\n",
       "      <th>balance</th>\n",
       "      <th>income</th>\n",
       "      <th>student</th>\n",
       "      <th>default</th>\n",
       "    </tr>\n",
       "  </thead>\n",
       "  <tbody>\n",
       "    <tr>\n",
       "      <th>1</th>\n",
       "      <td>729.526495</td>\n",
       "      <td>44361.625074</td>\n",
       "      <td>No</td>\n",
       "      <td>No</td>\n",
       "    </tr>\n",
       "    <tr>\n",
       "      <th>2</th>\n",
       "      <td>817.180407</td>\n",
       "      <td>12106.134700</td>\n",
       "      <td>Yes</td>\n",
       "      <td>No</td>\n",
       "    </tr>\n",
       "    <tr>\n",
       "      <th>3</th>\n",
       "      <td>1073.549164</td>\n",
       "      <td>31767.138947</td>\n",
       "      <td>No</td>\n",
       "      <td>No</td>\n",
       "    </tr>\n",
       "    <tr>\n",
       "      <th>4</th>\n",
       "      <td>529.250605</td>\n",
       "      <td>35704.493935</td>\n",
       "      <td>No</td>\n",
       "      <td>No</td>\n",
       "    </tr>\n",
       "    <tr>\n",
       "      <th>5</th>\n",
       "      <td>785.655883</td>\n",
       "      <td>38463.495879</td>\n",
       "      <td>No</td>\n",
       "      <td>No</td>\n",
       "    </tr>\n",
       "  </tbody>\n",
       "</table>\n",
       "</div>"
      ],
      "text/plain": [
       "       balance        income student default\n",
       "1   729.526495  44361.625074      No      No\n",
       "2   817.180407  12106.134700     Yes      No\n",
       "3  1073.549164  31767.138947      No      No\n",
       "4   529.250605  35704.493935      No      No\n",
       "5   785.655883  38463.495879      No      No"
      ]
     },
     "execution_count": 109,
     "metadata": {},
     "output_type": "execute_result"
    }
   ],
   "source": [
    "import numpy as np\n",
    "import pandas as pd\n",
    "import matplotlib.pyplot as plt\n",
    "\n",
    "data = pd.read_csv('datasets/Default.csv', index_col=0)\n",
    "# change columns order\n",
    "data = data[['balance', 'income', 'student', 'default']]\n",
    "\n",
    "print('Default dataset has {n_entries} entries'.format(n_entries=data.shape[0]))\n",
    "(count_def_no, count_def_yes) = data['default'].value_counts()\n",
    "print('The number of Default == \\'Yes\\' is {}'.format(count_def_yes))\n",
    "print('The number of Default == \\'No\\' is {}'.format(count_def_no))\n",
    "data.head()"
   ]
  },
  {
   "cell_type": "code",
   "execution_count": 110,
   "metadata": {},
   "outputs": [
    {
     "data": {
      "image/png": "[encoded data removed]",
      "text/plain": [
       "<Figure size 1008x360 with 2 Axes>"
      ]
     },
     "metadata": {
      "needs_background": "light"
     },
     "output_type": "display_data"
    }
   ],
   "source": [
    "y = data.pop('default')\n",
    "\n",
    "# convert student \"Yes\"/\"No\" to 1/0\n",
    "data.student.replace(('Yes','No'), (1,0), inplace=True)\n",
    "\n",
    "\n",
    "\n",
    "balance = [data.loc[y == 'No', 'balance'], data.loc[y == 'Yes', 'balance']]\n",
    "income = [data.loc[y == 'No', 'income'], data.loc[y == 'Yes', 'income']]\n",
    "\n",
    "# Visualize Box Plots\n",
    "fig, (ax1, ax2) = plt.subplots(1,2, figsize=(14,5))\n",
    "ax1.boxplot(balance, labels=['No', 'Yes'])\n",
    "ax1.set_xlabel('Default')\n",
    "ax1.set_ylabel('Balance')\n",
    "ax2.boxplot(income, labels=['No', 'Yes'])\n",
    "ax2.set_xlabel('Default')\n",
    "ax2.set_ylabel('Income')\n",
    "plt.show()"
   ]
  },
  {
   "cell_type": "code",
   "execution_count": 111,
   "metadata": {},
   "outputs": [
    {
     "name": "stdout",
     "output_type": "stream",
     "text": [
      "Training set has 6700 entries\n",
      "The number of Default == 'Yes' in the train set is 223\n",
      "The number of Default == 'No' in the train set is 6477\n"
     ]
    }
   ],
   "source": [
    "from sklearn.model_selection import train_test_split\n",
    "\n",
    "X_train, X_test, y_train, y_test = train_test_split(data, y, test_size=0.33, random_state=42)\n",
    "\n",
    "print('Training set has {} entries'.format(X_train.shape[0]))\n",
    "(count_train_no, count_train_yes) = y_train.value_counts()\n",
    "print('The number of Default == \\'Yes\\' in the train set is {}'.format(count_train_yes))\n",
    "print('The number of Default == \\'No\\' in the train set is {}'.format(count_train_no))"
   ]
  },
  {
   "cell_type": "code",
   "execution_count": 112,
   "metadata": {},
   "outputs": [
    {
     "data": {
      "image/png": "[encoded data removed]",
      "text/plain": [
       "<Figure size 432x288 with 1 Axes>"
      ]
     },
     "metadata": {
      "needs_background": "light"
     },
     "output_type": "display_data"
    }
   ],
   "source": [
    "# Visualize data\n",
    "plt.scatter(X_train.loc[y_train == 'Yes', 'balance'], X_train.loc[y_train == 'Yes', 'income'], \n",
    "            marker='+', color='r', alpha=0.7, label='Default=Yes')\n",
    "\n",
    "# plot just a subset of points with default=='No' (because the dataset was not balanced)\n",
    "plt.scatter(X_train.loc[y_train == 'No', 'balance'].iloc[:count_train_yes], X_train.loc[y_train == 'No', 'income'].iloc[:count_train_yes],\n",
    "            marker='o', facecolors='none', color='b', alpha=0.7, label='Default=No')\n",
    "plt.xlabel('Balance')\n",
    "plt.ylabel('Income')\n",
    "plt.title('Partial training set')\n",
    "plt.legend()\n",
    "plt.show()"
   ]
  },
  {
   "cell_type": "markdown",
   "metadata": {},
   "source": [
    "We have analyzed just the correlation between the features `balance` and `income` and the output `default`. Anyway, in our dataset we can find another feature called `student`, which is a boolean binary variable that indicates if that specific individual is a student or not.\n",
    "\n",
    "Now, let's **train a logistic regression model** to predict the probability of `default` according to the `student` status. We'll use dummy variables to code the student status."
   ]
  },
  {
   "cell_type": "code",
   "execution_count": 113,
   "metadata": {},
   "outputs": [
    {
     "name": "stdout",
     "output_type": "stream",
     "text": [
      "[[ 4.77967977e-04 -1.29901960e-04 -2.30604529e-06]]\n",
      "[-1.7920408e-06]\n"
     ]
    }
   ],
   "source": [
    "from sklearn.linear_model import LogisticRegression\n",
    "\n",
    "lr = LogisticRegression(C=100.0, random_state=1, solver='lbfgs')\n",
    "lr.fit(X_train, y_train)\n",
    "print(lr.coef_)\n",
    "print(lr.intercept_)"
   ]
  }
 ],
 "metadata": {
  "kernelspec": {
   "display_name": "Python 3",
   "language": "python",
   "name": "python3"
  },
  "language_info": {
   "codemirror_mode": {
    "name": "ipython",
    "version": 3
   },
   "file_extension": ".py",
   "mimetype": "text/x-python",
   "name": "python",
   "nbconvert_exporter": "python",
   "pygments_lexer": "ipython3",
   "version": "3.8.6"
  }
 },
 "nbformat": 4,
 "nbformat_minor": 4
}
