{
 "cells": [
  {
   "cell_type": "markdown",
   "metadata": {},
   "source": [
    "# Decision Tree Learning"
   ]
  },
  {
   "cell_type": "markdown",
   "metadata": {},
   "source": [
    "### Contents\n",
    "1. Classification vs Regression trees\n",
    "2. Building a decision tree\n",
    "3. Impurity indexes *(How to choose the best split)*\n",
    "4. Typical issues *(Missing values, Noisy data, Overfitting...)*\n",
    "5. Decision trees in `scikit-learn`\n",
    "6. Random forests"
   ]
  },
  {
   "cell_type": "markdown",
   "metadata": {},
   "source": [
    "## Introduction\n",
    "Decision tree learning is a predictive modeling approach that makes use of a **decision tree** to go from *observations* of an item (represented in the branches) to *conclusions* about the item's target value (represented in the leaves). If the target variable (i.e. the variable we want to predict) is discrete (e.g. a boolean value, a qualitative feature), then we'll talk about **classification trees**, while if it can take continuous values (e.g. the price of a house, or a patient's length of stay in a hospital), then we'll talk about **regression trees**.\n",
    "\n",
    "The decision tree model learns a series of questions to infer the class labels of the examples. When we want to classify a new data entry, starting from the root we go through the tree by asking a question at every branch node (a node internal to the tree) and, according to the answer to that question, by walking the path that is consistent with such answer (it will be clearer in the next section: *Classification vs Regression trees*). The leaf node that will be reached, will determine the entry's predicted target value.\n",
    "\n",
    "But, **how can we build a learning tree?**\n",
    "Roughly speaking, starting from the root, we split the data on the feature (i.e. on the variable) that results in the largest **information gain** (more on that later). We can repeat the splitting procedure at each child node until the leaves are *pure* (i.e. they contain only training examples with the same target value).\n",
    "In order to avoid **overfitting**, caused by a tree that is too deep, we typically want to ***prune*** the tree by limiting its maximal depth. \n",
    "\n",
    "Problems that are appropriate for decision trees are problems in which:\n",
    "- instances are represented by **(attribute, value) pairs**\n",
    "- target function has **discrete output value**\n",
    "- instances described by **binary or nominal attributes**\n",
    "- **disjunctive descriptions** may be required\n",
    "- training data may contain **errors** or **missing attribute's values**"
   ]
  },
  {
   "cell_type": "markdown",
   "metadata": {},
   "source": [
    "## Advantages of  decision tree algorithms\n",
    "- Do not require any prior assumption on the probability distribution of the data.\n",
    "- Inexpensive to construct (can handle big training sets).\n",
    "- Fast at classifying new instances (they just have to traverse the tree from the root to a leaf node making a comparison at each intermediate node).\n",
    "- They are easily interpretable (and so they are usable in context in which a rational justification of the made choice is required).\n",
    "- They are robust with respect to the presence of noisy data."
   ]
  },
  {
   "cell_type": "markdown",
   "metadata": {},
   "source": [
    "## Classification vs Regression trees\n",
    "### Classification trees\n",
    "**Classification trees** are models in which the target variable can take a *discrete set of values*. For example consider the task of recommending apps to users, based on data from the following dataset:\n",
    "\n",
    "| Gender | Occupation |    App (target)   |\n",
    "|:------:|:----------:|:---------:|\n",
    "|    F   |   Student  | Instagram |\n",
    "|    F   |   Worker   |  WhatsApp |\n",
    "|    M   |   Worker   |  Snapchat |\n",
    "|    F   |   Worker   |  WhatsApp |\n",
    "|    M   |   Student  | Instagram |\n",
    "|    M   |   Student  | Instagram |\n",
    "\n",
    "Based on that data we can answer some questions:\n",
    "- For a woman who works at an office, which app do we recommend? *WhatsApp*\n",
    "- For a man who works at a factory, which app do we recommend? *Snapchat*\n",
    "- For a girl who goes to high school, which app do we recommend? *Instagram*\n",
    "\n",
    "And observe that, between our features, `gender` and `occupation`, `occupation` seems more decisive for predicting what app the users will download, indeed, from our data, we can see that the students all downloaded Instagram. \n",
    "\n",
    "We can therefore build a decision tree where to all the students we will recommend Instagram while to the workers we will make a recommendation based on their gender: Whatsapp to the female workers, and Snapchat to the male ones.\n",
    "\n",
    "Input variables can take continuous values. For example, consider task of determining if a student will be selected from a University, based on its average grade and on the result obtained in an admission test. This is a **binary classification problem** (target = Yes/No).\n",
    "\n",
    "The dataset is the following:\n",
    "\n",
    "<img alt=\"grades dataset\" src=\"images/decision_trees/grades_split_1.png\" width=\"30%\"/>\n",
    "\n",
    "Now we ask ourselves what is the feature between `grades` and `test` that better splits our dataset into students that will be admitted, and students who don't. In other words, between a horizontal and a vertical line, which one would cuts the data better? A vertical line in `test = 5`  will do a better job, so we have identified our first branch in the decision tree.\n",
    "\n",
    "<img alt=\"grades dataset split\" src=\"images/decision_trees/grades_split_2.png\" width=\"30%\"/>\n",
    "\n",
    "We can iterate the process on the two subparts we have identified and cut each of them with an horizontal line (`grades = 7` for the first half and `grades = 2` for the second one).\n",
    "\n",
    "<img alt=\"grades dataset split\" src=\"images/decision_trees/grades_split_3.png\" width=\"30%\"/>\n",
    "\n",
    "The resulting decision tree will be:\n",
    "\n",
    "<img alt=\"decision tree\" src=\"images/decision_trees/grades_tree.png\" width=\"30%\"/>\n",
    "\n",
    "that is a binary decision tree (at most two children for each node) with:\n",
    "- A **root node** representing the entire population\n",
    "- 3 **decision nodes**\n",
    "- 4 leaves (**terminal nodes**)\n",
    "\n",
    "Decision Trees represents a **disjunction of conjunctions** on the attribute values of instances:\n",
    "- **Conjuction** in the sense that a decision rule is represented by a conjunction of questions (e.g. if `TEST < 5` **AND** `GRADES ≥ 7` then `YES`).\n",
    "- **Disjunction** in the sense that when we aggregate different training example in the same leaf node, we are in fact joining more paths together."
   ]
  },
  {
   "cell_type": "markdown",
   "metadata": {},
   "source": [
    "### Regression trees\n",
    "In **Regression trees** the target variable takes *continuous values* (for example we may want to predict the price, which is a continuous output variable, of a certain good)."
   ]
  },
  {
   "cell_type": "markdown",
   "metadata": {},
   "source": [
    "# Building a decision tree\n",
    "When building a decision tree (regardless of whether it is a classification or a regression tree):\n",
    "1. We divide the predictors space, that is the set of every possible value for the $p$ input variables $X_1,\\dots,X_p$ into $J$ distinct non-overlapping regions $R_1,\\dots,R_J$ (high-dimensional rectangles).\n",
    "2. For every observation that falls into region $R_j$ we predict:\n",
    "    - If it is a regression tree: the mean of the response values for the training observations in $R_j$.\n",
    "    - If it is a classification tree: the most commonly occurring class of the training observations in $R_j$.\n",
    "\n",
    "For a *regression tree*, the goal is to find $R_1,\\dots,R_J$ that minimize the *root sum squared* (RSS).\n",
    "\n",
    "$$RSS = \\sum_{j=1}^{J}{\\sum_{i:x_i\\in R_j}{\\left(y_i-\\hat{y}_{R_j}\\right)^2}}$$\n",
    "\n",
    "where $\\hat{y}_{R_j}$ is the mean response for the training observations within the *j*-th region. Anyway, considering every possibile partition of the feature space is computationally infeasible, that's why we take a *greedy* approach called **recursive binary splitting**: at each step, **for each** predictor $X_j$ we compute the cutpoint $s$ such that splitting the predictor space into the regions $\\{X|X_j<s\\}$ and $\\{X|X_j\\ge s\\}$ leads to the greatest possible reduction in RSS. Then we select the predictor (with the corresponding optimal cutset) such that the resulting tree has the lowest RSS. In other words, if we define the pair of half-planes as $R_1(j,s)=\\{X|X_j<s\\}$ and $R_2(j,s)=\\{X|X_j\\ge s\\}$, then we seek for the value of $j$ and $s$ that minimize the quantity\n",
    "\n",
    "$$\\sum_{i:x_i\\in R_1(j,s)}{\\left(y_i-\\hat{y}_{R_1}\\right)^2} + \\sum_{i:x_i\\in R_2(j,s)}{\\left(y_i-\\hat{y}_{R_2}\\right)^2}$$\n",
    "\n",
    "being $\\hat{y}_{R_i}$ the mean value for the training observations in $R_i(j,s)$. After finding $j$ and $s$, we perform the split of the space identifying the two regions $R_1$ and $R_2$. Next we repeat the process, however, instead of splitting the entire predictor space, we split only one of the two previously identified regions, by choosing the split that minimizes the most the RSS. After that we will have three regions. The process is iterated until a stopping criterion is reached.\n",
    "\n",
    "For a *classification tree* the RSS criterion can't be used. So, in order to identify the best split at each branch, we'll make use of the so called **impurity indexes**."
   ]
  },
  {
   "cell_type": "markdown",
   "metadata": {},
   "source": [
    "## Impurity indexes\n",
    "Different algorithms use different metrics (impurity indexes are indeed metrics) for measuring the _\"best\"_ split. These metrics are applied to each candidate subset, and the resulting values are combined (e.g. averaged) to provide a measure of the quality of the split.\n",
    "\n",
    "Common impurity measures are **entropy** ($I_H$), **Gini impurity** ($I_G$), **classification error rate** ($I_E$) and **gain ratio**.\n",
    "\n",
    "### Entropy\n",
    "In information theory, [entropy](https://en.wikipedia.org/wiki/Entropy_(information_theory)) is a quantity associated to any random variable, which can be interpreted as the average level of \"information\" or \"uncertainty\" inherent in the variable's possible outcomes.\n",
    "\n",
    "To get an insight of what entropy is, consider these 3 buckets containing 4 balls each. We can say that entropy is the number of different configurations that each bucket can produce with the balls it contains.\n",
    "\n",
    "<img alt=\"buckets with balls\" src=\"images/decision_trees/entropy_1.png\" width=\"450px\"/>\n",
    "\n",
    "Thus, we can say that:\n",
    "- The first bucket has *low* entropy because, no matter how we arrange the balls, they will always be all red.\n",
    "- The second bucket has *medium* entropy, providing 4 different configurations.\n",
    "- The third bucket has *high* entropy, provoding 6 different configurations.\n",
    "\n",
    "From a different point of view, we can talk about the **knowledge** provided by each bucket, in the sense of \"*if we pick a random ball from a bucket, how much do we know about its color?*\"\n",
    "- With the first bucket we have high knowledge, since we are sure that the extracted ball will be red.\n",
    "- Medium knowledge with the second bucket: the extracted ball is more likely to be red.\n",
    "- Low knowledge with the third bucket, since the extracted ball could be red either blue with the same probability.\n",
    "\n",
    "Now, for each bucket, choose a combination of the balls it contains and calculate the probability of obtaining that combination by randomly picking balls from that bucket, each time putting back inside the picked ball.\n",
    "\n",
    "\n",
    "|     Bucket    | P(red) | P(blue) | Combination |              P(combination)             |        $-\\log_2{P(combination)} $        | Entropy (average) |\n",
    "|:-------------:|:------:|:-------:|:-----------:|:---------------------------------------:|:---------------------------:|:-----------------:|\n",
    "| 4 Red, 0 Blue |    1   |    0    |     RRRR    |         $1\\cdot1\\cdot1\\cdot1=1$         |         $0+0+0+0=0$         |         0         |\n",
    "| 3 Red, 1 Blue |  0.75  |   0.25  |     RRRB    | $0.75\\cdot0.75\\cdot0.75\\cdot0.25=0.105$ | $0.415+0.415+0.415+2=3.245$ |        0.81       |\n",
    "| 2 Red, 2 Blue |   0.5  |   0.5   |     RRBB    |   $0.5\\cdot0.5\\cdot0.5\\cdot0.5=0.0625$  |         $1+1+1+1=4$         |         1         |\n",
    "\n",
    "The logarithm is taken to avoid multiplying small numbers between them and instead perform sums. The average entropy is obtained simply by dividing $-\\log_2{P(combination)}$ by the number of items $(4)$.\n",
    "\n",
    "In more general terms, if we have $m$ red balls and $n$ blue ones, we can calculate the entropy in this way:\n",
    "\n",
    "$$\\text{Entropy}=-\\frac{m}{m+n}\\log_2{\\left(\\frac{m}{m+n}\\right)} -\\frac{n}{m+n}\\log_2{\\left(\\frac{n}{m+n}\\right)} $$\n",
    "\n",
    "where we can call:\n",
    "\n",
    "$$p_1=\\frac{m}{m+n} \\qquad p_2=\\frac{n}{m+n}$$\n",
    "\n",
    "and rewrite:\n",
    "\n",
    "$$\\text{Entropy} = -p_1\\log_2{(p_1)}-p_2\\log_2{(p_2)}$$\n",
    "\n",
    "That formula can be used as a splitting criterion in a decision tree, and can be extended to the **multi-class case**, for each (parent) node $t$:\n",
    "\n",
    "$$I_H(t) = -\\sum_{i=1}^{c}{p(i|t)\\log_2{p(i|t)}}$$\n",
    "\n",
    "where:\n",
    "- $p(i|t)$ is the proportion of the examples that belongs to class $i$ for a particular node (region) $t$.\n",
    "- $c$ is the number of different target classes.\n",
    "\n",
    "The entropy is therefore **minimal** $(=0)$ *if all examples at a node belong to the same class*, and is **maximal** $(=\\log_2 c)$ if we have a *uniform class distribution*.\n",
    "\n",
    "The **entropy** criterion attempts to *maximize the mutual information* in the tree. "
   ]
  },
  {
   "cell_type": "markdown",
   "metadata": {},
   "source": [
    "### Maximizing information gain ([Wikipedia](https://en.wikipedia.org/wiki/Information_gain_in_decision_trees))\n",
    "Consider these 3 sets and the way they have been split.\n",
    "\n",
    "<img alt=\"splitting sets\" src=\"images/decision_trees/entropy_2.png\" width=\"50%\"/>\n",
    "\n",
    "It's obvious that in the third case we gained the most information, while in the first case we did not gain any information. Let's now define the **information gain (IG)**.\n",
    "\n",
    "$$\\text{Information gain} = \\text{Change in entropy}$$\n",
    "\n",
    "that is:\n",
    "\n",
    "$$IG(t, f) = I_H(t) - \\sum_{i=1}^{k}{\\frac{N_i}{N_p}I_H(\\text{i-th child})}$$\n",
    "\n",
    "where:\n",
    "- $IG(t, f)$: entropy reduction (information gain) for a split on the feature $f$ of the parent node $t$ (I'll use $t$ instead of $p$ in order to not confuse it with the probability),\n",
    "- $k$: number of different values of feature $f$ (assuming that $f$ is a discrete-valued attribute, later we'll discuss how to handle continuous-valued attributes),\n",
    "- $N_p$: number of instances in the parent node $t$,\n",
    "- $N_i$: number of instances associated with the *i*-th child node,\n",
    "- $I_H(node)$: entropy measure of the specified node,\n",
    "- The sum represents the average entropy of the children.\n",
    "\n",
    "Let's analyze the 3 cases of the example:\n",
    "1. In the first bucket, the parent's entropy is `1` and both the children's entropies are `1`. Thus, the information gain is `1 - 0.5*(1+1) = 0`.\n",
    "2. In the second bucket the entropy of the parent node is `1` and the entropy of both the children is `0.72`. Their average entropy is also `0.72` and so the change in entropy, i.e. the information gain is `1 - 0.72 = 0.28`. \n",
    "3. In the third bucket, both the children have entropy equal to `0`, and so the information gain is `1 - 0 = 1`.\n",
    "\n",
    "Note that in general the children are not the same size, and so the average entropy for the child groups will need to be a weighted average, based on the number of cases in each child group. Thus, for a *binary decision tree* we can write the **information gain (IG)** formula:\n",
    "\n",
    "$$IG(t, f) = I(t)-\\frac{N_{left}}{N_p}I(i_{left})-\\frac{N_{right}}{N_p}I(i_{right})$$\n",
    "\n",
    "Information gain tends to prefer attributes with many values, producing splits that result in a large number of partitions, each being small but pure. To avoid this problem, *gain ratio* is preferrable."
   ]
  },
  {
   "cell_type": "markdown",
   "metadata": {},
   "source": [
    "### Gain ratio\n",
    "Consider, for example, a simple dataset with categorical variables, each having just few possible values (2 or 3). Now consider a new variable `Date`, with a different value for each entry of the dataset. This new attribute would have the highest information gain of any of the attributes because `Date` alone perfectly predicts the target attribute over the training data. Using the *information gain* criterion, `Date` would be selected as the decision attribute for the root node of the tree and lead to a (quite broad) tree of depth one. The resulting decision tree perfectly classifies the training examples, but is useless to predict new unseen data. The **gain ratio** (used in the C4.5 algorithm) penalizes attributes such as `Date` by incorporating a term (**SplitInfo**) which is sensitive to how broadly and uniformly the attribute splits the data:\n",
    "\n",
    "$$\\text{GainRatio} = \\frac{\\text{InformationGain (parentNode $t$, attribute $f$)}}{\\text{SplitInfo (parentNode $t$, attribute $f$)}}$$\n",
    "\n",
    "$$\\text{SplitInfo}(t,f)= -\\sum_{i=1}^{k}{\\frac{N_i}{N_p}\\log_2{\\frac{N_i}{N_p}}} $$\n",
    "\n",
    "This is in contrast to our previous uses of entropy, in which we considered only the entropy of the parent node *with respect to the target attribute* whose value is to be predicted by the learned tree. In this case, *Splitlnformation* is actually the entropy of the parent node $t$ *with respect to the $k$ possible values of a certain selected attribute* $f$.\n",
    "\n",
    "The *SplitInformation* term discourages the selection of attributes with many uniformly distributed values.\n",
    "\n",
    "Consider $n$ examples that are completely separated by an attribute (e.g. `Date`). In this case, the *Splitlnformation* value will be $\\log_2n$. In contrast, a boolean attribute that splits the same $n$ examples exactly in half will have *Splitlnformation* of $1$."
   ]
  },
  {
   "cell_type": "markdown",
   "metadata": {},
   "source": [
    "### Gini index\n",
    "The **Gini index** (used by the CART algorithm) aims at *minimizing the probability of misclassification* (it is a measure of how often a randomly chosen element from the set would be incorrectly labeled if it was randomly labeled according to the distribution of labels in the subset). It is a measure of total variance across all the classes and it is based on the *Gini impurity* which is defined as:\n",
    "\n",
    "$$I_G(t)=\\sum_{i=1}^{c}{p(i|t)\\left(1-p(i|t)\\right)}=1-\\sum_{i=1}^{c}{p(i|t)^2}$$\n",
    "\n",
    "where:\n",
    "- $p(i|t)$ is the proportion of the examples that belongs to class $i$ for a particular node (region) $t$.\n",
    "- $c$ is the number of different target classes.\n",
    "\n",
    "Like the entropy, the Gini impurity is maximal $(=1-1/c)$ if the $c$ classes are perfectly mixed, and it is minimal $(=0)$ when all records belong to the same class.\n",
    "\n",
    "When a node $t$ is split into $k$ partitions (children), the *quality* of the split (the Gini index) is computed as a weighted average:\n",
    "\n",
    "$$GINI_{split}(t) = \\sum_{i=1}^{k}{\\frac{N_i}{N_p}I_G(i)}$$\n",
    "\n",
    "where:\n",
    "- $k$ is the number of partitions (children) into which we split parent node $t$.\n",
    "- $N_i$ is the number of instances belonging to the *i*-th child of node $t$.\n",
    "- $N_p$ is the number of instances belonging to the parent node $t$.\n",
    "- $I_G(i)$ is the Gini impurity for the *i*-th child."
   ]
  },
  {
   "cell_type": "markdown",
   "metadata": {},
   "source": [
    "### Classification error rate\n",
    "Since we plan to assign an observation in a given region $t$ to the *most commonly occurring class* of training observations in that region, the **classification error rate** $I_E(t)$ is the fraction of training observations in that region that do not belong to the most common class:\n",
    "\n",
    "$$I_E(t)=1-\\max_i\\{p(i|t)\\}$$\n",
    "\n",
    "and it is maximum $(=1-1/c)$ when the records are equally distributed among all classes (least interesting information) and it is minimum $(=0)$ when all records belong to one class (most interesting information).\n",
    "\n",
    "It is a useful criterion for *pruning* but it isn't recommended for growing a decision tree, indeed, consider the following example of branching and compute the information gain corresponding to different impurity indices:\n",
    "\n",
    "<img src=\"https://raw.githubusercontent.com/rasbt/python-machine-learning-book-3rd-edition/master/ch03/images/03_18.png\" width=\"500px\"/>\n",
    "\n",
    "- Using Classification error (IG is the same)\n",
    "    - $IG_E^A= I_E(t^A) - \\frac{N_1}{N_p}I_E(i_{left}^A) - \\frac{N_2}{N_p}I_E(i_{right}^A) = 0.5-\\frac{4}{8}0.25-\\frac{4}{8}0.25=0.25$\n",
    "    - $IG_E^B=0.5-\\frac{6}{8}\\cdot\\frac{1}{3}-\\frac{2}{8}\\cdot0=0.25$\n",
    "- Using Gini impurity (scenario B is favored)\n",
    "    - $IG_G^A=0.5-\\frac{4}{8}0.375-\\frac{4}{8}0.375=0.125$\n",
    "    - $IG_G^B=0.5-\\frac{6}{8}0.\\overline{4}-0=0.\\overline{16}$\n",
    "- Using Entropy (scenario B is favored)\n",
    "    - $IG_H^A=1-\\frac{4}{8}0.81-\\frac{4}{8}0.81=0.19$\n",
    "    - $IG_H^B=1-\\frac{6}{8}0.92-0=0.31$"
   ]
  },
  {
   "cell_type": "markdown",
   "metadata": {},
   "source": [
    "### Comparison between impurity measures\n",
    "We will now compare the three impurity indexes we presented (Entropy, Gini index and Classification Error Rate) for a $c=2$ classes problem. $p$ is the percentage of records belonging to one of the two classes."
   ]
  },
  {
   "cell_type": "code",
   "execution_count": 62,
   "metadata": {},
   "outputs": [],
   "source": [
    "from sklearn.model_selection import train_test_split\n",
    "from sklearn.tree import DecisionTreeClassifier\n",
    "from sklearn.metrics import accuracy_score\n",
    "import numpy as np\n",
    "import pandas as pd\n",
    "import matplotlib.pyplot as plt\n",
    "from utils import plot_decision_regions\n",
    "from IPython.display import display"
   ]
  },
  {
   "cell_type": "code",
   "execution_count": 63,
   "metadata": {},
   "outputs": [
    {
     "data": {
      "image/png": "[encoded data removed]",
      "text/plain": [
       "<Figure size 432x288 with 1 Axes>"
      ]
     },
     "metadata": {
      "needs_background": "light"
     },
     "output_type": "display_data"
    }
   ],
   "source": [
    "def entropy(p):\n",
    "    return - p*np.log2(p) - (1 - p)*np.log2((1 - p))\n",
    "\n",
    "def gini(p):\n",
    "    return 1 - (p**2 + (1 - p)**2)\n",
    "\n",
    "def error(p):\n",
    "    return 1 - np.max([p, 1 - p], axis=0)\n",
    "\n",
    "x = np.arange(0, 1, 0.01)\n",
    "entropy = [entropy(p) if p != 0 else None for p in x]\n",
    "sc_ent = [e * 0.5 if e else None for e in entropy]\n",
    "\n",
    "ax = plt.subplot(111)\n",
    "for y, lab, ls, c in zip([entropy, sc_ent, gini(x), error(x)],\n",
    "                                ['Entropy', 'Scaled entropy', 'Gini impurity', 'Misclassification error'],\n",
    "                                ['-','-', '--', '-.'],\n",
    "                                ['#2b2c3c', '#d4d4d8', '#ef800e', '#64bf0b']):\n",
    "    line = ax.plot(x, y, label=lab, linestyle=ls, color=c)\n",
    "ax.legend(loc='upper center', ncol=5, bbox_to_anchor=(0.5, 1.15))\n",
    "ax.axhline(y=0.5, linewidth=1, color='k', linestyle='--', alpha=0.5)\n",
    "plt.ylim([0, 1])\n",
    "plt.xlabel('p(i=1)')\n",
    "plt.ylabel('impurity index')\n",
    "plt.show()"
   ]
  },
  {
   "cell_type": "markdown",
   "metadata": {},
   "source": [
    "## Popular decision tree algorithms\n",
    "- **ID3** (1986): extension of D3.\n",
    "- **C4.5** (1993): successor of ID3, it uses *gain ratio* instead of *information gain*.\n",
    "- **CART** (1984): Classification And Regression Tree, it uses the *Gini index*.\n",
    "- **CHAID** (1980): CHi-square Automatic Interaction Detection performs multi-level splits when computing classification trees.\n",
    "- **MARS** (1991): Multivariate Adaptive Regression Splines."
   ]
  },
  {
   "cell_type": "markdown",
   "metadata": {},
   "source": [
    "# Main issues\n",
    "The **greedy strategy** consists into splitting the records based on an attribute test that optimizes a certain criterion.\n",
    "\n",
    "### How to select the feature to split?\n",
    "We choose the attribute whose splitting leads to the greatest gain in information, according to a certain measure. For instance, the ID3 algorithm use the information gain as this measure. \n",
    "\n",
    "Building a decision tree can be seen as a search in a hypothesis space. The **hypothesis space** searched by ID3 is the set of possible decision trees, that **is a *complete* space of finite discrete-value functions**, relative to the available attributes in the dataset. Thanks to this, it avoids the risk for the hypothesis space of not containing the target function. It performs a simple-to-complex, hill-climbing search through this hypothesis space beginning with the empty tree. The information gain measure is the evaluation function that guides the hill-climbing search. ID3 maintains only a single current hypothesis as it searches through the space of decision trees (differently from *CandidateElimination* algorithm which instead maintains the set of all hypotheses consistent with the available training examples), and so ID3 has the limitation of not being able to determine how many alternative decision trees are consistent with the training data. "
   ]
  },
  {
   "cell_type": "markdown",
   "metadata": {},
   "source": [
    "### How to handle continuous valued attributes?\n",
    "For a continuous valued attribute $A$ we can dynamically create a boolean attribute $A_c$ that is true if $A<c$ and false otherwise. How to select the best threshold value for $c$ is described as follows:\n",
    "1. Sort the examples according to the value of the continuous valued attribute in consideration.\n",
    "2. Identify adjacent samples that differ in their target classification.\n",
    "3. Generate a set of candidate thresholds between the corresponding values of the attribute.\n",
    "4. Evaluate the thresholds by computing the information gain associated with each of the candidate boolean valued attributes and select the best one.\n",
    "\n",
    "For example:\n",
    "\n",
    "|  Height (cm) | 150 | 159 | 174 | 177 | 186 | 190 | 191 |\n",
    "|--------------|-----|-----|-----|-----|-----|-----|-----|\n",
    "|    Target    | Yes | Yes | No  | No  | No  | Yes | Yes |\n",
    "\n",
    "The two candidate thresholds are:\n",
    "- $c_1=\\frac{159+174}{2}= 166.5$\n",
    "- $c_2=\\frac{186+190}{2}= 188$\n",
    "\n",
    "Then, the candidate boolean attributes are:\n",
    "- $height_{>166.5}$\n",
    "- $height_{>188}$"
   ]
  },
  {
   "cell_type": "code",
   "execution_count": 64,
   "metadata": {
    "scrolled": true
   },
   "outputs": [
    {
     "data": {
      "text/html": [
       "<div>\n",
       "<style scoped>\n",
       "    .dataframe tbody tr th:only-of-type {\n",
       "        vertical-align: middle;\n",
       "    }\n",
       "\n",
       "    .dataframe tbody tr th {\n",
       "        vertical-align: top;\n",
       "    }\n",
       "\n",
       "    .dataframe thead th {\n",
       "        text-align: right;\n",
       "    }\n",
       "</style>\n",
       "<table border=\"1\" class=\"dataframe\">\n",
       "  <thead>\n",
       "    <tr style=\"text-align: right;\">\n",
       "      <th></th>\n",
       "      <th>Color</th>\n",
       "      <th>Height</th>\n",
       "      <th>Target</th>\n",
       "    </tr>\n",
       "  </thead>\n",
       "  <tbody>\n",
       "    <tr>\n",
       "      <th>0</th>\n",
       "      <td>Blue</td>\n",
       "      <td>150</td>\n",
       "      <td>True</td>\n",
       "    </tr>\n",
       "    <tr>\n",
       "      <th>1</th>\n",
       "      <td>Red</td>\n",
       "      <td>159</td>\n",
       "      <td>True</td>\n",
       "    </tr>\n",
       "    <tr>\n",
       "      <th>2</th>\n",
       "      <td>Red</td>\n",
       "      <td>174</td>\n",
       "      <td>False</td>\n",
       "    </tr>\n",
       "    <tr>\n",
       "      <th>3</th>\n",
       "      <td>Red</td>\n",
       "      <td>177</td>\n",
       "      <td>False</td>\n",
       "    </tr>\n",
       "    <tr>\n",
       "      <th>4</th>\n",
       "      <td>Blue</td>\n",
       "      <td>186</td>\n",
       "      <td>False</td>\n",
       "    </tr>\n",
       "    <tr>\n",
       "      <th>5</th>\n",
       "      <td>Blue</td>\n",
       "      <td>190</td>\n",
       "      <td>True</td>\n",
       "    </tr>\n",
       "    <tr>\n",
       "      <th>6</th>\n",
       "      <td>Red</td>\n",
       "      <td>191</td>\n",
       "      <td>True</td>\n",
       "    </tr>\n",
       "  </tbody>\n",
       "</table>\n",
       "</div>"
      ],
      "text/plain": [
       "  Color  Height  Target\n",
       "0  Blue     150    True\n",
       "1   Red     159    True\n",
       "2   Red     174   False\n",
       "3   Red     177   False\n",
       "4  Blue     186   False\n",
       "5  Blue     190    True\n",
       "6   Red     191    True"
      ]
     },
     "metadata": {},
     "output_type": "display_data"
    },
    {
     "name": "stdout",
     "output_type": "stream",
     "text": [
      "Candidate thresholds: [166.5, 188.0]\n"
     ]
    }
   ],
   "source": [
    "\"\"\"Example: identify the candidate thresholds for a continuous valued attribute\"\"\"\n",
    "\n",
    "columns = ('Color', 'Height', 'Target')\n",
    "data = [('Blue', 150, True),('Red', 159, True),('Red', 174, False),\n",
    "        ('Red', 177, False),('Blue', 186, False),('Blue', 190, True),('Red', 191, True),]\n",
    "data = pd.DataFrame.from_records(data, columns=columns)\n",
    "\n",
    "thresholds = []\n",
    "for i in range(len(data)-1):\n",
    "    if (data.at[i,'Target'] != data.at[i+1,'Target']):\n",
    "        thresholds.append((data.at[i,'Height']+data.at[i+1,'Height'])/2)\n",
    "\n",
    "display(data)\n",
    "print('Candidate thresholds:', thresholds)"
   ]
  },
  {
   "cell_type": "markdown",
   "metadata": {},
   "source": [
    "### What is the tree's inductive bias?\n",
    "Since, in general, there are many decision trees consistent with the training set, how do we choose one of the trees over the others? In other words, what is the policy by which a certain DT algorithm generalizes from observed training examples to classify unseen instances?\n",
    "The **inductive bias** of the ID3 algorithm follows from its search strategy (it chooses the first consistent tree it finds), and, approximately, is: \n",
    "- Shorter trees are preferred over longer trees. \n",
    "- Trees that place high information gain attributes close to the root are preferred over those that do not.\n",
    "\n",
    "ID3 searches **incompletely** through a **complete** hypothesis space (a space that is able to represent any finite discrete-valued function). Its inductive bias is solely a consequence of the ordering of hypotheses by its search strategy. Its hypothesis space introduces no additional bias. \n",
    "By preferring certain hypotheses over others, we have a ***preference bias*** (or *search bias*).\n",
    "\n",
    "On the contrary, the *CANDIDATE-ELIMINATION* algorithm searches **completely** through an **incomplete** hypothesis space (one that can express only a subset of the potentially teachable concepts). Its inductive bias is solely a consequence of the expressive power of its hypothesis representation. Its search strategy introduces no additional bias.\n",
    "By restricting the set of hypotheses considered, we have a ***restriction bias*** (or *language bias*).\n",
    "\n",
    "A *preference bias* is preferred over a *restriction bias* because it allows the learner to work within a complete hypothesis space, that is assured to contain the unknown target function.\n",
    "\n",
    "A rule of thumb is to **prefer the simplest hypothesis that fits the data**."
   ]
  },
  {
   "cell_type": "markdown",
   "metadata": {},
   "source": [
    "### When to stop?\n",
    "The process continues until a **stopping criterion** is reached, for instance:\n",
    "- No region contains more than `min_samples_split` observations\n",
    "- `max_tree_depth` has been reached by every branch\n",
    "- The decrease in the RSS due to each split does not exceeds some threshold\n",
    "- We stop expanding a node if all of its records belong to the same class\n",
    "- We stop expanding a node if all of its records have the same attribute values, therefore we are unable to further split that node\n",
    "- ..."
   ]
  },
  {
   "cell_type": "markdown",
   "metadata": {},
   "source": [
    "### How to deal with noisy data?\n",
    "With the term *noisy data* we refer to data entries that are inconsistent. For instance, two identical entries with different target value. To solve this problem is enough to modify the termination criterion to accept hypotheses that imperfectly fit the training data. Furthermore, by considering all the examples at each step of the construction of the tree, and by making decisions based on **statistical properties** (such as information gain), the resulting search is less sensitive to noise in the data."
   ]
  },
  {
   "cell_type": "markdown",
   "metadata": {},
   "source": [
    "### How to handle training data with missing attribute values?\n",
    "There may be different procedures. For example, we might assign to a missing attribute value the most common value among examples in the dataset or in the same node that have the same target value. A different procedure (adopted in C4.5 algorithm) consists into assigning a probability based on the frequency of the values for that attribute. For instance consider a boolean valued attribute $f$, whose frequencies are `0.6` for $f=0$ and `0.4` for $f=1$. A fractional `0.6` of the entry with the missing attribute is distributed down the branch for $f=0$ and a fractional `0.4` is distributed down the other branch. The fractional examples are then used to compute the information gain. \n",
    "\n",
    "At the time of testing, a test instance with missing value is split into branches according to the portions of training examples falling into those branches and goes down to leaves.\n",
    "\n",
    "As an example, consider the following dataset\n",
    "\n",
    "|   |  f1 | f2 | Target |\n",
    "|:-:|:---:|:--:|:------:|\n",
    "| 1 | Yes | .. |   No   |\n",
    "| 2 |  No | .. |   No   |\n",
    "| 3 |  No | .. |   No   |\n",
    "| 4 | Yes | .. |   No   |\n",
    "| 5 |  No | .. |   Yes  |\n",
    "| 6 |  No | .. |   No   |\n",
    "| 7 | Yes | .. |   No   |\n",
    "| 8 |  No | .. |   Yes  |\n",
    "| 9 |  No | .. |   No   |\n",
    "| 10 |  **?** | .. |   Yes   |\n",
    "\n",
    "Attribute `f2`'s value of the 10-th entry is missing. Therefore we partially split that entry down the two branches determined by attribute `f2` according to:\n",
    "\n",
    "- $p(f_2 = Yes) = 3/9$\n",
    "- $p(f_2 = No) = 6/9$\n",
    "\n",
    "Then we make a split on `f2`:\n",
    "- down the branch `f2 = Yes` we send 3 instances having `Target = No` and `0 + 3/9` instances having `Target = Yes`\n",
    "- down the branch `f2 = No` we send 4 instances having `Target = No` and `2 + 6/9` instances having `Target = Yes`\n",
    "More precisely, we assign the 10-th record with weight equal to `3/9` to the child corresponding to `f2 = Yes`, and with weight equal to `6/9` to the child corresponding to `f2 = No`.\n",
    "\n",
    "If a new instance $(No, \\dots, Target = ?)$ has to be classified, we will need to consider the fact that the number of examples in the node `f2 = No` is `2 + 6 + 6/9 = 6.67`."
   ]
  },
  {
   "cell_type": "markdown",
   "metadata": {},
   "source": [
    "### How to handle attributes with different costs?\n",
    "In some cases, attributes may have a cost associated (quality, comfort, monetary...). In such cases decision trees with low-cost attributes are preferrable, relying on high-cost attributes only when needed to produce reliable classifications. Examples of approaches are:\n",
    "\n",
    "- Tan and Sclimmer (1990): replace the information gain attribute selection measure by:\n",
    "\n",
    "$$\\frac{InfoGain^2(\\text{node, attribute})}{\\text{Cost(attribute)}}$$\n",
    "\n",
    "- Nunez (1988): attribute selection measure is:\n",
    "\n",
    "$$\\frac{2^{InfoGain(node, attribute)}-1}{(cost(attribute)+1)^w}$$\n",
    "\n",
    "where $w\\in [0,1]$ is a constant weighting the relative importance of costs vs information gain."
   ]
  },
  {
   "cell_type": "markdown",
   "metadata": {},
   "source": [
    "### Determining how deeply to grow the DT\n",
    "There are two main approaches to avoid overfitting in decision tree learning.\n",
    "- approaches that stop growing the tree earlier, before it reaches the point where it perfectly classifies the training data.\n",
    "- approaches that allow the tree to overfit the data, and then **post-prune** the tree (preferrable approach due to the difficulty in the first approach of estimating precisely when to stop growing the tree).\n",
    "\n",
    "Regardeless of which of the two approaches we choose to follow, a typical way to determine how deeply to grow the DT is the common **training, validation and test set** approach: the available data are separated into:\n",
    "- a *training set*, which is used to form the learned hypothesis.\n",
    "- a *validation set*, which is used to evaluate the impact of pruning this hypothesis.\n",
    "- a *test set*, which is used to evaluate the accuracy of this hypothesis on new data.\n",
    "\n",
    "Then we can use the validation set approach in many ways in order to prune the tree. \n",
    "\n",
    "One way is the **reduced error pruning**: a certain node is removed (making it a leaf node and assigning to it the most common classification of the training examples affiliated with that node) only if the resulting pruned tree performs no worse than the previous one over the validation set. We start from the tree at its maximum size and with the lowest accuracy over the test set. Iteratively, nodes are removed, choosing at each iteration the one whose removal increases the overall accuracy on the validation set the most. We stop when further pruning would decrease the accuracy of the tree over the test set."
   ]
  },
  {
   "cell_type": "markdown",
   "metadata": {},
   "source": [
    "## Decision Trees in sklearn"
   ]
  },
  {
   "cell_type": "code",
   "execution_count": 65,
   "metadata": {},
   "outputs": [
    {
     "name": "stdout",
     "output_type": "stream",
     "text": [
      "Class labels: [0 1]\n",
      "Labels counts in y: [32 64]\n",
      "Labels counts in y_train: [22 45]\n",
      "Labels counts in y_test: [10 19]\n",
      "Accuracy score: 0.8966\n"
     ]
    },
    {
     "data": {
      "image/png": "[encoded data removed]",
      "text/plain": [
       "<Figure size 432x288 with 1 Axes>"
      ]
     },
     "metadata": {
      "needs_background": "light"
     },
     "output_type": "display_data"
    }
   ],
   "source": [
    "# Read the data\n",
    "data = np.asarray(pd.read_csv('datasets/decision_tree_data.csv', header=None))\n",
    "X = data[:,0:2]\n",
    "y = data[:,2].astype(int)\n",
    "# split data intro train set and test set\n",
    "X_train, X_test, y_train, y_test = train_test_split(X, y, test_size=0.3, random_state=1, stratify=y)\n",
    "print('Class labels:', np.unique(y))\n",
    "print('Labels counts in y:', np.bincount(y))\n",
    "print('Labels counts in y_train:', np.bincount(y_train))\n",
    "print('Labels counts in y_test:', np.bincount(y_test))\n",
    "# instantiate the classifier\n",
    "tree_model = DecisionTreeClassifier(criterion='gini', \n",
    "                                    splitter='best', \n",
    "                                    max_depth=6, \n",
    "                                    min_samples_leaf=2,\n",
    "                                    random_state=1)\n",
    "# train the classifier\n",
    "tree_model.fit(X_train,y_train)\n",
    "# make predictions\n",
    "y_pred = tree_model.predict(X_test)\n",
    "# evaluate accuracy score\n",
    "acc = accuracy_score(y_test, y_pred)\n",
    "print('Accuracy score: {:.4f}'.format(acc))\n",
    "\n",
    "X_combined = np.vstack((X_train, X_test))\n",
    "y_combined = np.hstack((y_train, y_test))\n",
    "\n",
    "# Plot the result\n",
    "plot_decision_regions(X_combined, y_combined, \n",
    "                      classifier=tree_model, \n",
    "                      test_idx=None, \n",
    "                      resolution=0.01)\n",
    "plt.title('Decision Tree Classifier')\n",
    "plt.xlabel(r'$x_1$')\n",
    "plt.ylabel(r'$x_2$')\n",
    "plt.legend(loc='upper left')\n",
    "plt.tight_layout()\n",
    "plt.show()"
   ]
  },
  {
   "cell_type": "markdown",
   "metadata": {},
   "source": [
    "# Random forests\n",
    "Decision trees, despite being easily interpretable and self-explanatory, generally don't have the same level of predictive accuracy as some other models. Furthermore, they can be very non-robust: a small change in the data can cause a large change in the final estimated tree.\n",
    "\n",
    "Decision trees tend to **overfit** the data, resulting into models that don't generalize well to the data. Main causes of overfitting are usually related to a **high maximum depth** or to a **small minimum number of samples per split**, both of which are parameters that we can specify to our algorithm.\n",
    "To overcome this problem, **random forests** come to our aid. A random forest is an ensemble of multiple decision trees, each of which suffers from high variance.\n",
    "\n",
    "**Observation 1:** given a set of *n* independent observations $Z_1,...,Z_n$, each with variance $\\sigma^2$, the variance of the mean $\\bar{Z}$ of observations is given by $\\sigma^2/n$ and so, **averaging a set of observations reduces variance**. This fact leads to the first improvement (called **bootstrap aggregation** or **bagging**) towards a low-variance learning method: take many training sets from the population (or bootstrap, by taking repeated\n",
    "samples from the (single) training data set), build a separate prediction model using each training set, and average the resulting predictions.\n",
    "\n",
    "**Observation 2:** suppose that, in the dataset, there is a very strong predictor (i.e. variable, feature). Each of the bagged trees will use this predictor in the top split, resulting in *higly correlated predictions* from the bagged trees. Averaging higly correlated quantities won't result in a large reduction in variance. To overcome this problem, instead of performing the split at each node over all the *p* predictors, we consider a random subset of *$m\\approx \\sqrt{p}$* variables. This is a process of *decorrelating the trees*.\n",
    "\n",
    "The general algorithm is:\n",
    "1. Draw a random **bootstrap** sample of size *n* (randomly choose *n* samples from the dataset with replacement)  \n",
    "2. Grow a decision tree from the bootstrap sample:  \n",
    "    a. Randomly select $m$ distinct features.  \n",
    "    b. Split the node according to the feature that provides the best split (e.g. maximizing the information gain).  \n",
    "3. Build $k$ decision trees by repeating steps 1 and 2 $k$ times.  \n",
    "4. **Majority vote:** The overall prediction is the most commonly occurring class among the $k$ predictions, each of which is from one of the trees in the forest.  \n",
    "\n",
    "Typically, the larger the number of trees, the better the performances of the random forest classifier at the expense of an increased computational cost."
   ]
  },
  {
   "cell_type": "code",
   "execution_count": 9,
   "metadata": {},
   "outputs": [
    {
     "data": {
      "image/png": "[encoded data removed]",
      "text/plain": [
       "<Figure size 432x288 with 1 Axes>"
      ]
     },
     "metadata": {
      "needs_background": "light"
     },
     "output_type": "display_data"
    }
   ],
   "source": [
    "from sklearn.ensemble import RandomForestClassifier\n",
    "# create a random forest of 'n_estimators' decision trees\n",
    "forest = RandomForestClassifier(n_estimators = 25,\n",
    "                                criterion='gini',\n",
    "                                random_state=1,\n",
    "                                max_features='sqrt',\n",
    "                                n_jobs=2)\n",
    "forest.fit(X_train, y_train)\n",
    "plot_decision_regions(X_combined, y_combined, classifier=forest, resolution=0.01)\n",
    "plt.title('Random Forest Classifier')\n",
    "plt.xlabel(r'$x_1$')\n",
    "plt.ylabel(r'$x_2$')\n",
    "plt.legend(loc='upper left')\n",
    "plt.tight_layout()\n",
    "plt.show()"
   ]
  }
 ],
 "metadata": {
  "kernelspec": {
   "display_name": "Python 3",
   "language": "python",
   "name": "python3"
  },
  "language_info": {
   "codemirror_mode": {
    "name": "ipython",
    "version": 3
   },
   "file_extension": ".py",
   "mimetype": "text/x-python",
   "name": "python",
   "nbconvert_exporter": "python",
   "pygments_lexer": "ipython3",
   "version": "3.7.6"
  }
 },
 "nbformat": 4,
 "nbformat_minor": 4
}
